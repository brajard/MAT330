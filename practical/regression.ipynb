{
 "cells": [
  {
   "cell_type": "markdown",
   "id": "33e173e2",
   "metadata": {
    "id": "33e173e2"
   },
   "source": [
    "# Emulate a Lorenz model\n",
    "The objective of this notebook is to provide a tutorial that emulates a Lorenz 63 model from data only.\n",
    "\n",
    "The general objective of this work is to present a methodology that consider a time-series ${\\bf v}_0,\\cdots,{\\bf v}_K$ and infer a data-driven model $G({\\bf v}_k)$ such as\n",
    "$$\n",
    "{\\bf v}_{k+1} \\approx G({\\bf v}_k,)\n",
    "$$\n"
   ]
  },
  {
   "cell_type": "markdown",
   "id": "09eeb4f3",
   "metadata": {
    "id": "09eeb4f3"
   },
   "source": [
    "## Importation and initializations\n",
    "This section imports and define few utilities functions. You can execute the cells below and then goes directly to the part 1-data definition."
   ]
  },
  {
   "cell_type": "code",
   "execution_count": null,
   "id": "22ce496e",
   "metadata": {
    "id": "22ce496e"
   },
   "outputs": [],
   "source": [
    "## Before we start let's import few packages\n",
    "\n",
    "import numpy as np\n",
    "import matplotlib.pyplot as plt\n",
    "import matplotlib as mpl\n",
    "from sklearn.linear_model import LinearRegression\n",
    "import tensorflow.keras as keras\n",
    "import tensorflow as tf\n",
    "from tensorflow.keras import layers\n",
    "from tqdm.notebook import tqdm\n"
   ]
  },
  {
   "cell_type": "code",
   "execution_count": null,
   "id": "d1eb348a",
   "metadata": {
    "id": "d1eb348a"
   },
   "outputs": [],
   "source": [
    "## We initialize the random generators so the notebook is fully reproducible\n",
    "\n",
    "np.random.seed(2021)\n",
    "tf.random.set_seed(2022)"
   ]
  },
  {
   "cell_type": "code",
   "execution_count": null,
   "id": "c2c4fcd1",
   "metadata": {
    "id": "c2c4fcd1"
   },
   "outputs": [],
   "source": [
    "## Define few utilities functions\n",
    "\n",
    "def simulate(forward, K, v0, N=0, burnin=500):\n",
    "    \"\"\"\n",
    "    simulate an ensemble of forward models over K time steps.\n",
    "    :forward: forward model\n",
    "    :K: number of time steps to generate\n",
    "    :N: enseømble size (if N=0, no ensemble)\n",
    "    :v0: initial state (shape: (3,N)), if N=0. (shape: (3))\n",
    "    :burnin: number of initial time step to discard (spinup period)\n",
    "    \"\"\"\n",
    "    V = np.zeros((K+burnin,N,3)) if N>0 else np.zeros((K+burnin,3)) \n",
    "    V[0,...] = v0\n",
    "    for i in tqdm(range(1,K+burnin)):\n",
    "        V[i] =forward(V[i-1])\n",
    "    return V[burnin:]\n",
    "\n",
    "def phase_plot(V,cmap='inferno', fig=None, ax=None, alpha=1, clip=True):\n",
    "    \"\"\"\n",
    "    Plot the trajectory V in dense plot in the phase space\n",
    "    \"\"\"\n",
    "    nbins=100\n",
    "    if fig is None or ax is None:\n",
    "        fig, ax = plt.subplots(nrows=2, ncols=2,figsize=(10,10))\n",
    "    ax[1,0].hist2d(V[:,0],V[:,1], bins=(nbins,nbins),  norm=mpl.colors.LogNorm(clip=clip),cmap=cmap, alpha=alpha);\n",
    "    ax[0,0].hist2d(V[:,0],V[:,2], bins=(nbins,nbins), norm=mpl.colors.LogNorm(clip=clip), cmap=cmap, alpha=alpha);\n",
    "    ax[0,1].hist2d(V[:,1],V[:,2], bins=(nbins,nbins), norm=mpl.colors.LogNorm(clip=clip), cmap=cmap, alpha=alpha);\n",
    "    ax[0,0].plot(V[:,0],V[:,2],color='gray',alpha=0.3)\n",
    "    ax[0,1].plot(V[:,1],V[:,2],color='gray',alpha=0.3)\n",
    "    ax[1,0].plot(V[:,0],V[:,1],color='gray',alpha=0.3)\n",
    "    ax[1,1].axis('off');\n",
    "    ax[1,0].set_xlabel('x')\n",
    "    ax[1,0].set_ylabel('y')\n",
    "    ax[0,0].set_xlabel('x')\n",
    "    ax[0,0].set_ylabel('z')\n",
    "    ax[0,1].set_xlabel('y')\n",
    "    ax[0,1].set_ylabel('z')\n",
    "\n",
    "\n",
    "   \n",
    "    return fig, ax \n",
    "\n",
    "def plot_3rows(x,y,ax,**kwfigs):\n",
    "    for i in range(len(ax)):\n",
    "        ax[i].plot(x,y[:,i],**kwfigs)\n",
    "        \n",
    "def rmse (xref, xest, axis=(1,),norm=True):\n",
    "    \"\"\"Compute the root mean square. If norm is true (default), the error is normalize by 2 standard deviation.\"\"\"\n",
    "    rmse_ret = np.sqrt(np.mean(np.square(xref-xest),axis=axis))\n",
    "    if norm:\n",
    "        rmse_ret /= 2*np.std(xref,axis=axis)\n",
    "    return rmse_ret"
   ]
  },
  {
   "cell_type": "markdown",
   "id": "8bf525c0",
   "metadata": {
    "id": "8bf525c0"
   },
   "source": [
    "## 1. Data definition\n",
    "The Lorenz 63 model is defined on a 3-dimensional state $\\mathbf{v}(t)=\\{x(t),y(t),z(t)\\}$ by the following equations:\n",
    "\\begin{align}\n",
    "\\frac{\\mathrm{d}x}{\\mathrm{d}t} &= \\sigma (y - x), \\\\\n",
    "\\frac{\\mathrm{d}y}{\\mathrm{d}t} &= x (\\rho - z) - y, \\\\\n",
    "\\frac{\\mathrm{d}z}{\\mathrm{d}t} &= x y - \\beta z.\n",
    "\\end{align}\n",
    "In our case we take the defaults values $\\sigma = 10$, $\\rho=28$, $\\beta=8/3$"
   ]
  },
  {
   "cell_type": "markdown",
   "id": "a78c7a40",
   "metadata": {
    "id": "a78c7a40"
   },
   "source": [
    "Let's define the Lorenz equations:"
   ]
  },
  {
   "cell_type": "code",
   "execution_count": null,
   "id": "6457b892",
   "metadata": {
    "id": "6457b892"
   },
   "outputs": [],
   "source": [
    "# Parameters of the Lorenz model\n",
    "sig = 10.\n",
    "rho = 28.\n",
    "beta = 8./3\n",
    "\n",
    "def Lorenz_model(v, sig=sig, rho=rho, beta=beta):\n",
    "    \"\"\"\n",
    "    Compute the Lorenz 63 tendencies\n",
    "    \"\"\"\n",
    "    x, y, z = v[...,0], v[...,1], v[...,2]\n",
    "    \n",
    "    dxdt = sig*(y-x)\n",
    "    dydt = rho*x - y - x*z\n",
    "    dzdt = x*y - beta*z\n",
    "    \n",
    "    return np.stack((dxdt, dydt, dzdt),axis=-1)"
   ]
  },
  {
   "cell_type": "markdown",
   "id": "90739001",
   "metadata": {
    "id": "90739001"
   },
   "source": [
    "We integrate the ODEs (Ordinary Differential Equations) using a runge kutta scheme on discrete time steps $t_k$ such as $t_{k+1}-t_k = \\delta t = 0.01$ (by default). We denote $\\mathcal{M}$ the inegretion operator (sometimes called the *resolvent*) over a time step $\\delta t$, such as:\n",
    "$$\n",
    "{\\bf v_{k+1}} = \\mathcal{M}({\\bf v_{k}})\n",
    "$$"
   ]
  },
  {
   "cell_type": "code",
   "execution_count": null,
   "id": "8dc9b2d5",
   "metadata": {
    "id": "8dc9b2d5"
   },
   "outputs": [],
   "source": [
    "def RK4 (model, v, dt):\n",
    "    \"\"\"\n",
    "    Integrate the model over dt using initial conditions v\n",
    "    \"\"\"\n",
    "    k1 = model(v)\n",
    "    k2 = model(v + dt*k1/2.)\n",
    "    k3 = model(v + dt*k2/2.)\n",
    "    k4 = model(v + dt*k3)\n",
    "    return v + (1./6.)*dt*(k1 + 2*k2 + 2*k3 + k4)"
   ]
  },
  {
   "cell_type": "markdown",
   "id": "65dbff82",
   "metadata": {
    "id": "65dbff82"
   },
   "source": [
    "Now we are almost ready to generate all the data. We are defining all the necessary parameters (some of which will be explained later on). You can play with thoses parameters to see the effect of some of them (e.g. the size of the training set, or the noise of the training set)."
   ]
  },
  {
   "cell_type": "code",
   "execution_count": null,
   "id": "24b15484",
   "metadata": {
    "id": "24b15484"
   },
   "outputs": [],
   "source": [
    "dt = 0.01 # integration time step\n",
    "K = 50000 # size of the reference simulation\n",
    "Ktrain=15000 # Number of samples in the training set\n",
    "Kval = 5000 # Number of samples in the validation set\n",
    "Ktest = 2000 # Number of samples in the test set (used to assess the forecast skill)\n",
    "Ntest = 500 # Size of the test set ensemble\n",
    "v0ref = np.array([1.509, -1.531, 25.46]) # Reference point to initialize simulations\n",
    "stdo = 0 #Relative noise on the data"
   ]
  },
  {
   "cell_type": "markdown",
   "id": "cae47d8e",
   "metadata": {
    "id": "cae47d8e"
   },
   "source": [
    "Now, let's simulate the data for the reference set and the test set"
   ]
  },
  {
   "cell_type": "code",
   "execution_count": null,
   "id": "400fba12",
   "metadata": {
    "colab": {
     "base_uri": "https://localhost:8080/",
     "height": 116,
     "referenced_widgets": [
      "5bac4f2faa7a4c3aa51a5b86c4e873a1",
      "8b062d48eded4ad79e3af9e9bf3b497b",
      "ff6d4e9803d24f7399025f49b29dc037",
      "03881b0e45614431b4f38eebe668a203",
      "4d01944ab37f4120937829fc3f9699bb",
      "3d12dcee1a6f4a278c1b99c9f5eedf5a",
      "d3387c46ee8944d49639f65c21084cac",
      "44e0246909af4d5a9761f003af80995d",
      "63b232b9e1eb482dbab295aea50882e5",
      "ff9d3c92186e4306b64bbaab27feacc2",
      "532bdd2410f54cd287fea1aa77535c8a",
      "280998072edd41e8b0eb8092e1494ff7",
      "e3a7df76266d49de91016dfb2e633bc1",
      "cb3dc3ce5a9c461f8ad7bf2234dee7c5",
      "c837c25591524c618cd41790cd044169",
      "c5e0474d3cdc4559a3cac55c57f696f6",
      "ab53f955868b4df28c86661d475fe5c1",
      "1625233157fe4d1a940b8b3b796db057",
      "e8f62cb8f2e74e42ac93018d7acbe58f",
      "746eb8f933624ca6a3d41d6b14bd7336",
      "7856d4d35e2c4ceab586363c6f4bc0fd",
      "c7ab5e4212234bbbbb35edf83a4d5f3e"
     ]
    },
    "id": "400fba12",
    "outputId": "6cc78dc4-41ec-424b-b58b-4d09840da899"
   },
   "outputs": [],
   "source": [
    "# Define the resolvent\n",
    "forward = lambda v: RK4(Lorenz_model, v,dt)\n",
    "\n",
    "#Reference dataset generation\n",
    "v0 = v0ref + 0.1*np.random.randn(3)\n",
    "v = simulate(forward, K, v0)\n",
    "\n",
    "\n",
    "# Define the noise field\n",
    "sigma = np.std(v,axis=0)\n",
    "noise = stdo*sigma*np.random.randn(K,3)\n",
    "\n",
    "# Extract the training and validation set (add noise on the training)\n",
    "Xtrain = v[0:Ktrain] +  noise[0:Ktrain]\n",
    "ytrain = v[1:Ktrain+1] + noise[1:Ktrain+1]\n",
    "\n",
    "Xval = v[Ktrain:Ktrain+Kval]\n",
    "yval = v[Ktrain+1:Ktrain+Kval+1]\n",
    "\n",
    "# Test set (ensemble) generation\n",
    "v0test = v0ref[np.newaxis,:] + 0.1*np.random.randn(Ntest,3)\n",
    "vtest = simulate(forward, Ktest, v0test, N=Ntest)\n",
    "ttest = dt*np.arange(Ktest) #Time scale of the test datset\n",
    "\n",
    "# Print the size\n",
    "print(f'Size of the reference set: {v.shape}\\nSize of the test set: {vtest.shape}')\n"
   ]
  },
  {
   "cell_type": "markdown",
   "id": "f4b950ce",
   "metadata": {
    "id": "f4b950ce"
   },
   "source": [
    "**We recomend to always have a look at the dataset and its main characteristic, using simple visualization, before running any processing.**\n",
    "\n",
    "We now plot the simulations of few time steps of one member of the test simulation"
   ]
  },
  {
   "cell_type": "code",
   "execution_count": null,
   "id": "28137191",
   "metadata": {
    "colab": {
     "base_uri": "https://localhost:8080/",
     "height": 606
    },
    "id": "28137191",
    "outputId": "6994e342-9982-41ff-b5b0-b85cda996166"
   },
   "outputs": [],
   "source": [
    "fig, ax = plt.subplots(nrows=3,figsize=(10,10),sharex=True)\n",
    "plot_3rows(ttest,vtest[:,1],ax,color='C0',label='Truth')\n",
    "ax[0].legend();\n",
    "ax[2].set_xlabel('Time');\n",
    "ax[0].set_ylabel('x');\n",
    "ax[1].set_ylabel('y');\n",
    "ax[2].set_ylabel('z');"
   ]
  },
  {
   "cell_type": "markdown",
   "id": "04dbf922",
   "metadata": {
    "id": "04dbf922"
   },
   "source": [
    "Ater a transient period (model spinup), discarded in the simulations, the vector ${\\bf v}$ takes value in a subspace of the $\\mathbb{R}^3$, called the **model attractor**. We can represents in the density of  values of the attractor (plot in the phase space). \n",
    "\n",
    "N.B. we use the python ```hist3``` that \"bin\" the data to represent the density. Due to binning effect, the density in the edge of the attractor seems like discontinous points whereas the trajectory are continous"
   ]
  },
  {
   "cell_type": "code",
   "execution_count": null,
   "id": "ac3a460e",
   "metadata": {
    "colab": {
     "base_uri": "https://localhost:8080/",
     "height": 606
    },
    "id": "ac3a460e",
    "outputId": "378fe041-c609-4f2c-d1b3-0968f9f59fd1"
   },
   "outputs": [],
   "source": [
    "fig, ax = phase_plot(v)\n"
   ]
  },
  {
   "cell_type": "markdown",
   "id": "201b8691",
   "metadata": {
    "id": "201b8691"
   },
   "source": [
    "If we do the same phase plot but limited to training set, it can be seen that the denser parts attractor are covered by the training set, but the edges (less frequent) are undersampled."
   ]
  },
  {
   "cell_type": "code",
   "execution_count": null,
   "id": "186f3b74",
   "metadata": {
    "colab": {
     "base_uri": "https://localhost:8080/",
     "height": 606
    },
    "id": "186f3b74",
    "outputId": "35d4ed08-1a96-4d87-950c-01e6962e343a"
   },
   "outputs": [],
   "source": [
    "fig, ax = phase_plot(Xtrain)\n"
   ]
  },
  {
   "cell_type": "markdown",
   "id": "b2b013ee",
   "metadata": {
    "id": "b2b013ee"
   },
   "source": [
    "<span style=\"color:red\">**OBJECTIVE OF THIS NOTEBOOK**</span> \n",
    "\n",
    "Given the dataset ${\\bf v}_0,\\cdots,{\\bf v}_K$ in the training set, we want to determine a data driven model $G({\\bf v}_k,\\theta)$, such as:\n",
    "$$\n",
    "{\\bf v}_{k+1} = G({\\bf v}_k,\\boldsymbol{\\theta}) + \\epsilon_k,\n",
    "$$\n",
    "where $\\epsilon_k$ is the error of the data-driven model, $\\boldsymbol{\\theta}$ is the set of parameter of the data-driven model to be adjusted the the error is minimum. To achieve this objective, the following loss (also call cost function) is minimized:\n",
    "$$\n",
    "L(\\boldsymbol{\\theta}) = \\sum_{k=1}^K \\left[ {\\bf v}_{k+1} - G({\\bf v}_k,\\boldsymbol{\\theta}) \\right]^2\n",
    "$$.\n",
    "\n",
    "If the data-driven model is perfect $L(\\boldsymbol{\\theta})=0$ and $G({\\bf v}_k,\\boldsymbol{\\theta}) = \\mathcal{M}({\\bf v_{k}})$\n",
    "\n",
    "<span style=\"color:red\">**EVALUATION OF THE DATA-DRIVEN MODEL**</span> \n",
    "\n",
    "The model $G({\\bf v}_k,\\boldsymbol{\\theta})$ is evaluated for 2 distincts properties:\n",
    "1. **The forecast skill** Given the same initial condition ${\\bf v}_0$, how far in time the prediction of the model is accurate, i.e. $G^h({\\bf v}_0,\\boldsymbol{\\theta}) - \\mathcal{M}^h({\\bf v_{0}})$ is small? This property is evaluated by commputing the root-mean square error in time over an ensemble of indepednant initial conditions (the size of the ensemble is given by the variable ```Ntest```\n",
    "2. **The climate of the model** If we integrate the data-driven model over a long time, how good the attractor is reproduced? This property is assessed by comparing qualitatively the atttractor of the true model and the data-driven model.\n",
    "\n",
    "*N.B. In this notebook, we only present a few assessments of the performances. There are of course a large variety of scores to asssess the quality of the data-driven model (e.g. Lyapunov exponents, energy spectrum, ...). The following papers give example of complete assessment that can be done on a data-driven model.See for example:*\n",
    "- Pathak, Jaideep, et al. \"Using machine learning to replicate chaotic attractors and calculate Lyapunov exponents from data.\" Chaos: An Interdisciplinary Journal of Nonlinear Science 27.12 (2017): 121102. https://aip.scitation.org/doi/full/10.1063/1.5010300?casa_token=zAZf0spCswoAAAAA:KsWSuFIGVCVvKSvV5U225tD_W1sn0bRF4G-0weOFXNwx0-v80d-NhcMMRivIj6VFdZ704S7ePiBh\n",
    "\n",
    "- Brajard, Julien, et al. \"Combining data assimilation and machine learning to emulate a dynamical model from sparse and noisy observations: a case study with the Lorenz 96 model.\" Journal of Computational Science 44 (2020): 101171.\n",
    "https://www.sciencedirect.com/science/article/pii/S1877750320304725?casa_token=1TZhvVKQx8AAAAAA:lKVvhP7Wg7cILKQNSXlpdXXXKxrt_RVlUn1VJLRUlSCSAm1f4bOuMId2EMRVHLhW-qkb8-DS3w4"
   ]
  },
  {
   "cell_type": "markdown",
   "id": "017e8eeb",
   "metadata": {
    "id": "017e8eeb"
   },
   "source": [
    "## 2. A simple baseline\n",
    "Before designing any complex (or even not so complex) machine learning approach, it is recommended to test a **simple and naive baseline**. Here we try a simple **linear model** as a very simple data-driven model.\n"
   ]
  },
  {
   "cell_type": "markdown",
   "id": "6b784079",
   "metadata": {
    "id": "6b784079"
   },
   "source": [
    "First, The linear model is fitted on the training dataset:"
   ]
  },
  {
   "cell_type": "code",
   "execution_count": null,
   "id": "2087d2b4",
   "metadata": {
    "id": "2087d2b4"
   },
   "outputs": [],
   "source": [
    "reg = LinearRegression().fit(Xtrain, ytrain)\n"
   ]
  },
  {
   "cell_type": "markdown",
   "id": "021e8e84",
   "metadata": {
    "id": "021e8e84"
   },
   "source": [
    "Second, the predictions for the validation dataset are computed."
   ]
  },
  {
   "cell_type": "code",
   "execution_count": null,
   "id": "664286a8",
   "metadata": {
    "id": "664286a8"
   },
   "outputs": [],
   "source": [
    "ylin = reg.predict(Xval)"
   ]
  },
  {
   "cell_type": "markdown",
   "id": "f9960bf6",
   "metadata": {
    "id": "f9960bf6"
   },
   "source": [
    "Then, the true values are compared with the linear prediction"
   ]
  },
  {
   "cell_type": "code",
   "execution_count": null,
   "id": "57a08632",
   "metadata": {
    "colab": {
     "base_uri": "https://localhost:8080/",
     "height": 392
    },
    "id": "57a08632",
    "outputId": "784642fb-fe38-455d-fa28-38c88da3282e"
   },
   "outputs": [],
   "source": [
    "fig, ax = plt.subplots(ncols=3, figsize=(15,6))\n",
    "ax[0].plot(yval[:,0],ylin[:,0],'.')\n",
    "ax[1].plot(yval[:,1],ylin[:,1],'.')\n",
    "ax[2].plot(yval[:,2],ylin[:,2],'.')"
   ]
  },
  {
   "cell_type": "markdown",
   "id": "1a0e0b5c",
   "metadata": {
    "id": "1a0e0b5c"
   },
   "source": [
    "It seems that the linear model does a pretty good job here. But the scatter plots show only the error after an integration of a small time increment $\\Delta t$. We need to assess the skill of the model used on a longer time (for the forecast and the reproduction of the climate)\n",
    "\n",
    "So we compute the forecast of the linear model with the same ensemble of initial condition as the test dataset:"
   ]
  },
  {
   "cell_type": "code",
   "execution_count": null,
   "id": "c1377a1e",
   "metadata": {
    "colab": {
     "base_uri": "https://localhost:8080/",
     "height": 49,
     "referenced_widgets": [
      "549e0070af7e40659562f23d76fe513d",
      "84df7a3890e9487bb8b46b5bcb49c971",
      "3d454cbc864b4ca4abf54a1ee6657535",
      "c9973cd73bbd4836ae36894b821f0c63",
      "db135d7e4bae4e75b856f392a73f7bb7",
      "4c2841093a284f4b9deb7561aab148e0",
      "c94b337c27a244c0b49511046f2ef58b",
      "a732ea9dfcb54cbc9d1e14da20a4493c",
      "2f9921ead747407bb38b1596d374f44c",
      "9286a107b6fe43b9a60df83bce942972",
      "da5a3f267ad2461592a36bbb15336c35"
     ]
    },
    "id": "c1377a1e",
    "outputId": "29d38c5a-a25a-4c45-95b7-23866a22affa"
   },
   "outputs": [],
   "source": [
    "vtestlin = simulate(reg.predict, Ktest, vtest[0], N=Ntest,burnin=0)\n"
   ]
  },
  {
   "cell_type": "code",
   "execution_count": null,
   "id": "8db4bb3b",
   "metadata": {
    "colab": {
     "base_uri": "https://localhost:8080/",
     "height": 623
    },
    "id": "8db4bb3b",
    "outputId": "8e6fe660-37e5-486f-a485-f9831ce93e8b"
   },
   "outputs": [],
   "source": [
    "fig, ax = plt.subplots(nrows=3,figsize=(10,10),sharex=True)\n",
    "plot_3rows(ttest,vtest[:,1],ax,color='C0',label='Truth')\n",
    "plot_3rows(ttest,vtestlin[:,1],ax,color='C1',label='linear')\n",
    "ax[0].legend()\n",
    "ax[2].set_xlabel('Time')\n",
    "ax[0].set_ylabel('x')\n",
    "ax[1].set_ylabel('y')\n",
    "ax[2].set_ylabel('z')"
   ]
  },
  {
   "cell_type": "markdown",
   "id": "e3bfac1a",
   "metadata": {
    "id": "e3bfac1a"
   },
   "source": [
    "On the previous example, it can be seen that the linear model is only a amortized oscillator, that have a very limited forecast skill. Let's have a look at the forecast skill averaged over the 500 examples of the dataset"
   ]
  },
  {
   "cell_type": "code",
   "execution_count": null,
   "id": "2d751fe9",
   "metadata": {
    "colab": {
     "base_uri": "https://localhost:8080/",
     "height": 623
    },
    "id": "2d751fe9",
    "outputId": "8c19bdd2-8f3f-424c-9ff3-2d6ef084e362"
   },
   "outputs": [],
   "source": [
    "rmse_lin = rmse(vtest, vtestlin)\n",
    "fig, ax = plt.subplots(nrows=3,figsize=(10,10),sharex=True)\n",
    "plot_3rows(ttest[:200],rmse_lin[:200],ax,color='C1',label='linear')\n",
    "ax[0].legend()\n",
    "ax[0].set_ylabel('RMSE(x)')\n",
    "ax[1].set_ylabel('RMSE(y)')\n",
    "ax[2].set_ylabel('RMSE(z)')\n",
    "ax[2].set_xlabel('Time')\n"
   ]
  },
  {
   "cell_type": "markdown",
   "id": "8ad7cc6b",
   "metadata": {
    "id": "8ad7cc6b"
   },
   "source": [
    "There is not much we can conclude from the previous figure. We see that the error reaches 60% after .25 times for $x$ and $y$ and afet 0.15 times for $z$. It gives a baseline our data-driven model needs outperform.\n",
    "\n",
    "Now we can have a look at the climate reconstruction by plotting the attractor of the linear data-driven model:"
   ]
  },
  {
   "cell_type": "code",
   "execution_count": null,
   "id": "e8c54f01",
   "metadata": {
    "colab": {
     "base_uri": "https://localhost:8080/",
     "height": 638,
     "referenced_widgets": [
      "4c6fdb33ab704d78a1ab961e6caf7953",
      "57aec0f9b54f4ad295b665cb899a24e3",
      "f01918eb738a47bcac5f2b4f8cc970fa",
      "53c3bc0208f647f38cb1089db913b8d5",
      "cd7195cb966343bbae0c846cefa310fc",
      "ed5bf004725b40ed8e584efb78098fa2",
      "56fefde40e044ca9a3143b5d68f3e79f",
      "2aaa9101df3c4fd6b2cedc82eaa74980",
      "390af6108e6e48aebe3a41baa3fa5f4c",
      "18460bb3a6f54c128a658b5fa599cc13",
      "f20aaef2a9984fa2ab259071390eeb3f"
     ]
    },
    "id": "e8c54f01",
    "outputId": "51f5233a-0fb0-44c4-f176-49855466ceae"
   },
   "outputs": [],
   "source": [
    "vtestlinlong = simulate(reg.predict, K, vtest[0,:1], burnin=0, N=1).squeeze()\n",
    "fig, ax = phase_plot(vtestlinlong)\n"
   ]
  },
  {
   "cell_type": "markdown",
   "id": "3783ab6f",
   "metadata": {
    "id": "3783ab6f"
   },
   "source": [
    "The model is converging to a single fixed point, which is very different from the expected attractor."
   ]
  },
  {
   "cell_type": "markdown",
   "id": "7f303313",
   "metadata": {
    "id": "7f303313"
   },
   "source": [
    "## 2. The neural network emulator\n",
    "First, let's define the list of parameters for the neural network. Don't hesitate to play with the parameters to see the effect of each of them."
   ]
  },
  {
   "cell_type": "code",
   "execution_count": null,
   "id": "b03cca00",
   "metadata": {
    "id": "b03cca00"
   },
   "outputs": [],
   "source": [
    "norm_input = True #Standardization of the input vector\n",
    "nhid1 = 20 # Number of neurons in the first hidden layer\n",
    "nhid2 = 10 # Number of neurons in the second hidden layer\n",
    "nhid3 = 10 # Number of neurons in the third hidden layer\n",
    "epochs = 150 # Number of epochs during optimization\n",
    "optimizer = tf.keras.optimizers.Adam(learning_rate=1.e-3) # Optimizer used for the trainin\n",
    "batch_size = 128 #Batch size for the mini-batch optimisation"
   ]
  },
  {
   "cell_type": "markdown",
   "id": "0ffc180a",
   "metadata": {
    "id": "0ffc180a"
   },
   "source": [
    "Compute the normalization of the input:"
   ]
  },
  {
   "cell_type": "code",
   "execution_count": null,
   "id": "0e2bc385",
   "metadata": {
    "id": "0e2bc385"
   },
   "outputs": [],
   "source": [
    "if norm_input:\n",
    "    mean_ = np.mean(Xtrain,axis=0,keepdims=True)\n",
    "    std_= np.std(Xtrain,axis=0, keepdims=True)\n",
    "    norm = lambda x: (x-mean_)/std_\n",
    "    denorm = lambda x: x*std_ + mean_\n",
    "else:\n",
    "    norm = lambda x: x\n",
    "    denorm = lambda x: x"
   ]
  },
  {
   "cell_type": "markdown",
   "id": "543d2127",
   "metadata": {
    "id": "543d2127"
   },
   "source": [
    "Define the neural network model"
   ]
  },
  {
   "cell_type": "code",
   "execution_count": null,
   "id": "a39eca61",
   "metadata": {
    "id": "a39eca61"
   },
   "outputs": [],
   "source": [
    "nn_model = keras.Sequential(\n",
    "    [\n",
    "        layers.Dense(nhid1, activation=\"tanh\", name=\"layer1\", input_shape=(3,)),\n",
    "        layers.Dense(nhid2, activation=\"tanh\", name=\"layer2\"),\n",
    "        layers.Dense(nhid3, activation=\"tanh\", name=\"layer3\"),\n",
    "        layers.Dense(3, name=\"output\", activation=\"linear\"),\n",
    "    ])\n",
    "\n",
    "\n",
    "nn_model.compile(optimizer=optimizer, loss='mse')"
   ]
  },
  {
   "cell_type": "markdown",
   "id": "8a30ae31",
   "metadata": {
    "id": "8a30ae31"
   },
   "source": [
    "Have a look at the model\n"
   ]
  },
  {
   "cell_type": "code",
   "execution_count": null,
   "id": "26fbd915",
   "metadata": {
    "colab": {
     "base_uri": "https://localhost:8080/"
    },
    "id": "26fbd915",
    "outputId": "e143225b-91ea-4902-91b9-76892ac9a617"
   },
   "outputs": [],
   "source": [
    "nn_model.summary()"
   ]
  },
  {
   "cell_type": "markdown",
   "id": "cab3e1c7",
   "metadata": {
    "id": "cab3e1c7"
   },
   "source": [
    "Now we need to compile the model (it is a particularity of tensorflow) and specify the loss function and the optimizer.\n"
   ]
  },
  {
   "cell_type": "markdown",
   "id": "33dbced5",
   "metadata": {
    "id": "33dbced5"
   },
   "source": [
    "It is now possible de train the model (optimize the parameters)"
   ]
  },
  {
   "cell_type": "code",
   "execution_count": null,
   "id": "80990d79",
   "metadata": {
    "colab": {
     "base_uri": "https://localhost:8080/"
    },
    "id": "80990d79",
    "outputId": "9984efa0-ddc4-4bd8-d5a2-b56dfa6a0e55"
   },
   "outputs": [],
   "source": [
    "history = nn_model.fit(norm(Xtrain),ytrain, validation_data=(norm(Xval),yval),epochs=epochs, batch_size = batch_size)"
   ]
  },
  {
   "cell_type": "markdown",
   "id": "383ed43c",
   "metadata": {
    "id": "383ed43c"
   },
   "source": [
    "Before assessing the performance of the NN model, we have look at the loss decreasing over the epochs for the training dataset and the validation dataset. The training loss is expected to decrease during the training (if not, it denotes a very serious problem on the data or on the model). It is also important to verify that the validation loss is also decrasing, otherwise it can reveal that the NN model is **overfitting** on the data."
   ]
  },
  {
   "cell_type": "code",
   "execution_count": null,
   "id": "7KCvPSNKrZYk",
   "metadata": {
    "colab": {
     "base_uri": "https://localhost:8080/",
     "height": 279
    },
    "id": "7KCvPSNKrZYk",
    "outputId": "6925823c-5b5c-447a-e4b5-cf8d9126e286"
   },
   "outputs": [],
   "source": [
    "fig, ax = plt.subplots()\n",
    "ax.semilogy(history.history['loss'],color='gray',label='train loss')\n",
    "ax.semilogy(history.history['val_loss'],color='black',label='validation loss')\n",
    "ax.legend()\n",
    "ax.set_xlabel('epoch');\n",
    "ax.set_ylabel('Loss');"
   ]
  },
  {
   "cell_type": "markdown",
   "id": "18abab23",
   "metadata": {
    "id": "18abab23"
   },
   "source": [
    "Prediction of the model on the validation set:"
   ]
  },
  {
   "cell_type": "code",
   "execution_count": null,
   "id": "051e1967",
   "metadata": {
    "colab": {
     "base_uri": "https://localhost:8080/"
    },
    "id": "051e1967",
    "outputId": "447c5aad-a849-4952-a837-33f4b276ce6a"
   },
   "outputs": [],
   "source": [
    "ynn = nn_model.predict(norm(Xval))"
   ]
  },
  {
   "cell_type": "markdown",
   "id": "1e871d57",
   "metadata": {
    "id": "1e871d57"
   },
   "source": [
    "Look at the scatter plots:"
   ]
  },
  {
   "cell_type": "code",
   "execution_count": null,
   "id": "9ae6b687",
   "metadata": {
    "colab": {
     "base_uri": "https://localhost:8080/",
     "height": 392
    },
    "id": "9ae6b687",
    "outputId": "6bc7355e-74c0-4040-d3cb-d9c6a8103b53"
   },
   "outputs": [],
   "source": [
    "fig, ax = plt.subplots(ncols=3, figsize=(15,6))\n",
    "ax[0].plot(yval[:,0],ynn[:,0],'.')\n",
    "ax[1].plot(yval[:,1],ynn[:,1],'.')\n",
    "ax[2].plot(yval[:,2],ynn[:,2],'.')"
   ]
  },
  {
   "cell_type": "markdown",
   "id": "905fddbf",
   "metadata": {
    "id": "905fddbf"
   },
   "source": [
    "The scatter plots looks almost perfect. But remember that they were also looking good for the linear model baseline. This shows only the skill of the NN model adter a short $\\Delta t$ time step. Now we need to assess the NN model on longer time."
   ]
  },
  {
   "cell_type": "markdown",
   "id": "e73b7da0",
   "metadata": {
    "id": "e73b7da0"
   },
   "source": [
    "Define the resolvant of the NN nodel:"
   ]
  },
  {
   "cell_type": "code",
   "execution_count": null,
   "id": "444f07cd",
   "metadata": {
    "id": "444f07cd"
   },
   "outputs": [],
   "source": [
    "forward_nn = lambda v: nn_model(norm(v), training=False)[...,:3]\n"
   ]
  },
  {
   "cell_type": "markdown",
   "id": "f8c9058b",
   "metadata": {
    "id": "f8c9058b"
   },
   "source": [
    "Integrate the NN model over the test dataset and plot one trajectory"
   ]
  },
  {
   "cell_type": "code",
   "execution_count": null,
   "id": "ba05e939",
   "metadata": {
    "colab": {
     "base_uri": "https://localhost:8080/",
     "height": 49,
     "referenced_widgets": [
      "3ed3e77d691e4c189134cec8cb483825",
      "24b89e4725ea4b0eb1b00739f54ef2fe",
      "8e2628586c2a474194b2322614106cac",
      "181a8ee715f2404ebc37780ffe83094f",
      "c5e898711a4440598cd3e9b660933b41",
      "8e2b87bb47bd4b3eb01bc84a9e3989b2",
      "555005aaa9f340d89495254ff6e113d2",
      "432b5ff16005471992fc932372f30fe1",
      "6ae3967aee9b4f288d39420db48cf20f",
      "9ea7b68b20c24f6da1194b580b4c7f9d",
      "84b6d2b8ce484aef8aac88211c5c2822"
     ]
    },
    "id": "ba05e939",
    "outputId": "89e299f6-b2ec-4dd3-f0b8-02089fe9705e"
   },
   "outputs": [],
   "source": [
    "vtestnn = simulate(forward_nn, Ktest, vtest[0], N=Ntest,burnin=0)\n"
   ]
  },
  {
   "cell_type": "code",
   "execution_count": null,
   "id": "a759e011",
   "metadata": {
    "colab": {
     "base_uri": "https://localhost:8080/",
     "height": 606
    },
    "id": "a759e011",
    "outputId": "ecb97819-7973-4fa1-cd87-1f4992b1e88b"
   },
   "outputs": [],
   "source": [
    "NN = 1800\n",
    "fig, ax = plt.subplots(nrows=3,figsize=(10,10),sharex=True)\n",
    "plot_3rows(ttest[:NN],vtest[:NN,2],ax,color='C0',label='Truth')\n",
    "plot_3rows(ttest[:NN],vtestlin[:NN,2],ax,color='C1',label='lin')\n",
    "\n",
    "plot_3rows(ttest[:NN],vtestnn[:NN,2],ax,color='C2',label='NN')\n",
    "\n",
    "ax[0].legend()\n",
    "ax[2].set_xlabel('Time')\n",
    "ax[0].set_ylabel('x');\n",
    "ax[1].set_ylabel('y');\n",
    "ax[2].set_ylabel('z');"
   ]
  },
  {
   "cell_type": "markdown",
   "id": "054bb9f4",
   "metadata": {
    "id": "054bb9f4"
   },
   "source": [
    "It is clear that the NN model \"follows\" the true simulation for a longer time, and also the simulation is very similar to the true simulation. Note here that, due to the chaotic nature of the dynamic, any model model is expected to diverge with respect to the truth.\n",
    "\n",
    "Now we can assess the forecast skill and compare it to the forecast skill of our linear model baseline."
   ]
  },
  {
   "cell_type": "code",
   "execution_count": null,
   "id": "2f0ecfaf",
   "metadata": {
    "colab": {
     "base_uri": "https://localhost:8080/",
     "height": 623
    },
    "id": "2f0ecfaf",
    "outputId": "ad8a6a1b-e117-4603-fd90-6601faef4179"
   },
   "outputs": [],
   "source": [
    "rmse_nn = rmse(vtest, vtestnn)\n",
    "fig, ax = plt.subplots(nrows=3,figsize=(10,10), sharex=True)\n",
    "plot_3rows(ttest[:200],rmse_lin[:200],ax,color='C1',label='linear')\n",
    "plot_3rows(ttest[:200],rmse_nn[:200],ax, color='C2',label='NN')\n",
    "\n",
    "ax[0].legend()\n",
    "ax[2].set_xlabel('Time')\n",
    "ax[0].set_ylabel('RMSE(x)')\n",
    "ax[1].set_ylabel('RMSE(y)')\n",
    "ax[2].set_ylabel('RMSE(z)')"
   ]
  },
  {
   "cell_type": "markdown",
   "id": "afe34244",
   "metadata": {
    "id": "afe34244"
   },
   "source": [
    "It is very clear that the NN model outperforms the linear model. The error stays under 60% for more than 2 time units instead of 0.25 for the linear model, so the horizon of prediction has been roughly improve by a factor of 8.\n",
    "\n",
    "Finally, let's assess the long-term properties of the NN model.We make a long simulation of the NN model and visualize the attractor"
   ]
  },
  {
   "cell_type": "code",
   "execution_count": null,
   "id": "4e3e95df",
   "metadata": {
    "colab": {
     "base_uri": "https://localhost:8080/",
     "height": 49,
     "referenced_widgets": [
      "93cdee1b7b6143519eb0efa0e2da1462",
      "2c23461c05c24451976714ffdafde6ae",
      "4a190d30942f4cebbbe2456e1720a471",
      "e1ba7003cec44a00aeab438f3dd569b8",
      "4c09984ea38b41febd680f3700872717",
      "4e32887169604cbfb8c636d1ea7c754f",
      "99156d772ba340a889d73a0cc03bfc34",
      "42615a1ca56448e4a5e6e10bb7ff7df3",
      "391ee187041643dfb85e121376355d55",
      "668941c748be4648bf73bf474c9bd7e1",
      "1e2581ec98bd4f62977b54be49f0c206"
     ]
    },
    "id": "4e3e95df",
    "outputId": "fc6723c0-2bd3-4403-a826-e79eed3d63fb"
   },
   "outputs": [],
   "source": [
    "vtestnnlong = simulate(forward_nn, K, vtest[0,:1], burnin=0, N=1).squeeze()\n"
   ]
  },
  {
   "cell_type": "code",
   "execution_count": null,
   "id": "511e1d2e",
   "metadata": {
    "colab": {
     "base_uri": "https://localhost:8080/",
     "height": 606
    },
    "id": "511e1d2e",
    "outputId": "34bbf879-f646-4d5a-dc2b-f4d0d2c2abfe"
   },
   "outputs": [],
   "source": [
    "fig, ax = phase_plot(vtestnnlong)"
   ]
  },
  {
   "cell_type": "code",
   "execution_count": null,
   "id": "00802483",
   "metadata": {
    "id": "00802483"
   },
   "outputs": [],
   "source": []
  }
 ],
 "metadata": {
  "accelerator": "GPU",
  "colab": {
   "name": "L63_demonstrator.ipynb",
   "provenance": []
  },
  "kernelspec": {
   "display_name": "Python 3 (ipykernel)",
   "language": "python",
   "name": "python3"
  },
  "language_info": {
   "codemirror_mode": {
    "name": "ipython",
    "version": 3
   },
   "file_extension": ".py",
   "mimetype": "text/x-python",
   "name": "python",
   "nbconvert_exporter": "python",
   "pygments_lexer": "ipython3",
   "version": "3.9.13"
  },
  "widgets": {
   "application/vnd.jupyter.widget-state+json": {
    "03881b0e45614431b4f38eebe668a203": {
     "model_module": "@jupyter-widgets/controls",
     "model_module_version": "1.5.0",
     "model_name": "HTMLModel",
     "state": {
      "_dom_classes": [],
      "_model_module": "@jupyter-widgets/controls",
      "_model_module_version": "1.5.0",
      "_model_name": "HTMLModel",
      "_view_count": null,
      "_view_module": "@jupyter-widgets/controls",
      "_view_module_version": "1.5.0",
      "_view_name": "HTMLView",
      "description": "",
      "description_tooltip": null,
      "layout": "IPY_MODEL_ff9d3c92186e4306b64bbaab27feacc2",
      "placeholder": "​",
      "style": "IPY_MODEL_532bdd2410f54cd287fea1aa77535c8a",
      "value": " 50499/50499 [00:07&lt;00:00, 5687.15it/s]"
     }
    },
    "1625233157fe4d1a940b8b3b796db057": {
     "model_module": "@jupyter-widgets/controls",
     "model_module_version": "1.5.0",
     "model_name": "DescriptionStyleModel",
     "state": {
      "_model_module": "@jupyter-widgets/controls",
      "_model_module_version": "1.5.0",
      "_model_name": "DescriptionStyleModel",
      "_view_count": null,
      "_view_module": "@jupyter-widgets/base",
      "_view_module_version": "1.2.0",
      "_view_name": "StyleView",
      "description_width": ""
     }
    },
    "181a8ee715f2404ebc37780ffe83094f": {
     "model_module": "@jupyter-widgets/controls",
     "model_module_version": "1.5.0",
     "model_name": "HTMLModel",
     "state": {
      "_dom_classes": [],
      "_model_module": "@jupyter-widgets/controls",
      "_model_module_version": "1.5.0",
      "_model_name": "HTMLModel",
      "_view_count": null,
      "_view_module": "@jupyter-widgets/controls",
      "_view_module_version": "1.5.0",
      "_view_name": "HTMLView",
      "description": "",
      "description_tooltip": null,
      "layout": "IPY_MODEL_9ea7b68b20c24f6da1194b580b4c7f9d",
      "placeholder": "​",
      "style": "IPY_MODEL_84b6d2b8ce484aef8aac88211c5c2822",
      "value": " 1999/1999 [00:05&lt;00:00, 352.53it/s]"
     }
    },
    "18460bb3a6f54c128a658b5fa599cc13": {
     "model_module": "@jupyter-widgets/base",
     "model_module_version": "1.2.0",
     "model_name": "LayoutModel",
     "state": {
      "_model_module": "@jupyter-widgets/base",
      "_model_module_version": "1.2.0",
      "_model_name": "LayoutModel",
      "_view_count": null,
      "_view_module": "@jupyter-widgets/base",
      "_view_module_version": "1.2.0",
      "_view_name": "LayoutView",
      "align_content": null,
      "align_items": null,
      "align_self": null,
      "border": null,
      "bottom": null,
      "display": null,
      "flex": null,
      "flex_flow": null,
      "grid_area": null,
      "grid_auto_columns": null,
      "grid_auto_flow": null,
      "grid_auto_rows": null,
      "grid_column": null,
      "grid_gap": null,
      "grid_row": null,
      "grid_template_areas": null,
      "grid_template_columns": null,
      "grid_template_rows": null,
      "height": null,
      "justify_content": null,
      "justify_items": null,
      "left": null,
      "margin": null,
      "max_height": null,
      "max_width": null,
      "min_height": null,
      "min_width": null,
      "object_fit": null,
      "object_position": null,
      "order": null,
      "overflow": null,
      "overflow_x": null,
      "overflow_y": null,
      "padding": null,
      "right": null,
      "top": null,
      "visibility": null,
      "width": null
     }
    },
    "1e2581ec98bd4f62977b54be49f0c206": {
     "model_module": "@jupyter-widgets/controls",
     "model_module_version": "1.5.0",
     "model_name": "DescriptionStyleModel",
     "state": {
      "_model_module": "@jupyter-widgets/controls",
      "_model_module_version": "1.5.0",
      "_model_name": "DescriptionStyleModel",
      "_view_count": null,
      "_view_module": "@jupyter-widgets/base",
      "_view_module_version": "1.2.0",
      "_view_name": "StyleView",
      "description_width": ""
     }
    },
    "24b89e4725ea4b0eb1b00739f54ef2fe": {
     "model_module": "@jupyter-widgets/controls",
     "model_module_version": "1.5.0",
     "model_name": "HTMLModel",
     "state": {
      "_dom_classes": [],
      "_model_module": "@jupyter-widgets/controls",
      "_model_module_version": "1.5.0",
      "_model_name": "HTMLModel",
      "_view_count": null,
      "_view_module": "@jupyter-widgets/controls",
      "_view_module_version": "1.5.0",
      "_view_name": "HTMLView",
      "description": "",
      "description_tooltip": null,
      "layout": "IPY_MODEL_8e2b87bb47bd4b3eb01bc84a9e3989b2",
      "placeholder": "​",
      "style": "IPY_MODEL_555005aaa9f340d89495254ff6e113d2",
      "value": "100%"
     }
    },
    "280998072edd41e8b0eb8092e1494ff7": {
     "model_module": "@jupyter-widgets/controls",
     "model_module_version": "1.5.0",
     "model_name": "HBoxModel",
     "state": {
      "_dom_classes": [],
      "_model_module": "@jupyter-widgets/controls",
      "_model_module_version": "1.5.0",
      "_model_name": "HBoxModel",
      "_view_count": null,
      "_view_module": "@jupyter-widgets/controls",
      "_view_module_version": "1.5.0",
      "_view_name": "HBoxView",
      "box_style": "",
      "children": [
       "IPY_MODEL_e3a7df76266d49de91016dfb2e633bc1",
       "IPY_MODEL_cb3dc3ce5a9c461f8ad7bf2234dee7c5",
       "IPY_MODEL_c837c25591524c618cd41790cd044169"
      ],
      "layout": "IPY_MODEL_c5e0474d3cdc4559a3cac55c57f696f6"
     }
    },
    "2aaa9101df3c4fd6b2cedc82eaa74980": {
     "model_module": "@jupyter-widgets/base",
     "model_module_version": "1.2.0",
     "model_name": "LayoutModel",
     "state": {
      "_model_module": "@jupyter-widgets/base",
      "_model_module_version": "1.2.0",
      "_model_name": "LayoutModel",
      "_view_count": null,
      "_view_module": "@jupyter-widgets/base",
      "_view_module_version": "1.2.0",
      "_view_name": "LayoutView",
      "align_content": null,
      "align_items": null,
      "align_self": null,
      "border": null,
      "bottom": null,
      "display": null,
      "flex": null,
      "flex_flow": null,
      "grid_area": null,
      "grid_auto_columns": null,
      "grid_auto_flow": null,
      "grid_auto_rows": null,
      "grid_column": null,
      "grid_gap": null,
      "grid_row": null,
      "grid_template_areas": null,
      "grid_template_columns": null,
      "grid_template_rows": null,
      "height": null,
      "justify_content": null,
      "justify_items": null,
      "left": null,
      "margin": null,
      "max_height": null,
      "max_width": null,
      "min_height": null,
      "min_width": null,
      "object_fit": null,
      "object_position": null,
      "order": null,
      "overflow": null,
      "overflow_x": null,
      "overflow_y": null,
      "padding": null,
      "right": null,
      "top": null,
      "visibility": null,
      "width": null
     }
    },
    "2c23461c05c24451976714ffdafde6ae": {
     "model_module": "@jupyter-widgets/controls",
     "model_module_version": "1.5.0",
     "model_name": "HTMLModel",
     "state": {
      "_dom_classes": [],
      "_model_module": "@jupyter-widgets/controls",
      "_model_module_version": "1.5.0",
      "_model_name": "HTMLModel",
      "_view_count": null,
      "_view_module": "@jupyter-widgets/controls",
      "_view_module_version": "1.5.0",
      "_view_name": "HTMLView",
      "description": "",
      "description_tooltip": null,
      "layout": "IPY_MODEL_4e32887169604cbfb8c636d1ea7c754f",
      "placeholder": "​",
      "style": "IPY_MODEL_99156d772ba340a889d73a0cc03bfc34",
      "value": "100%"
     }
    },
    "2f9921ead747407bb38b1596d374f44c": {
     "model_module": "@jupyter-widgets/controls",
     "model_module_version": "1.5.0",
     "model_name": "ProgressStyleModel",
     "state": {
      "_model_module": "@jupyter-widgets/controls",
      "_model_module_version": "1.5.0",
      "_model_name": "ProgressStyleModel",
      "_view_count": null,
      "_view_module": "@jupyter-widgets/base",
      "_view_module_version": "1.2.0",
      "_view_name": "StyleView",
      "bar_color": null,
      "description_width": ""
     }
    },
    "390af6108e6e48aebe3a41baa3fa5f4c": {
     "model_module": "@jupyter-widgets/controls",
     "model_module_version": "1.5.0",
     "model_name": "ProgressStyleModel",
     "state": {
      "_model_module": "@jupyter-widgets/controls",
      "_model_module_version": "1.5.0",
      "_model_name": "ProgressStyleModel",
      "_view_count": null,
      "_view_module": "@jupyter-widgets/base",
      "_view_module_version": "1.2.0",
      "_view_name": "StyleView",
      "bar_color": null,
      "description_width": ""
     }
    },
    "391ee187041643dfb85e121376355d55": {
     "model_module": "@jupyter-widgets/controls",
     "model_module_version": "1.5.0",
     "model_name": "ProgressStyleModel",
     "state": {
      "_model_module": "@jupyter-widgets/controls",
      "_model_module_version": "1.5.0",
      "_model_name": "ProgressStyleModel",
      "_view_count": null,
      "_view_module": "@jupyter-widgets/base",
      "_view_module_version": "1.2.0",
      "_view_name": "StyleView",
      "bar_color": null,
      "description_width": ""
     }
    },
    "3d12dcee1a6f4a278c1b99c9f5eedf5a": {
     "model_module": "@jupyter-widgets/base",
     "model_module_version": "1.2.0",
     "model_name": "LayoutModel",
     "state": {
      "_model_module": "@jupyter-widgets/base",
      "_model_module_version": "1.2.0",
      "_model_name": "LayoutModel",
      "_view_count": null,
      "_view_module": "@jupyter-widgets/base",
      "_view_module_version": "1.2.0",
      "_view_name": "LayoutView",
      "align_content": null,
      "align_items": null,
      "align_self": null,
      "border": null,
      "bottom": null,
      "display": null,
      "flex": null,
      "flex_flow": null,
      "grid_area": null,
      "grid_auto_columns": null,
      "grid_auto_flow": null,
      "grid_auto_rows": null,
      "grid_column": null,
      "grid_gap": null,
      "grid_row": null,
      "grid_template_areas": null,
      "grid_template_columns": null,
      "grid_template_rows": null,
      "height": null,
      "justify_content": null,
      "justify_items": null,
      "left": null,
      "margin": null,
      "max_height": null,
      "max_width": null,
      "min_height": null,
      "min_width": null,
      "object_fit": null,
      "object_position": null,
      "order": null,
      "overflow": null,
      "overflow_x": null,
      "overflow_y": null,
      "padding": null,
      "right": null,
      "top": null,
      "visibility": null,
      "width": null
     }
    },
    "3d454cbc864b4ca4abf54a1ee6657535": {
     "model_module": "@jupyter-widgets/controls",
     "model_module_version": "1.5.0",
     "model_name": "FloatProgressModel",
     "state": {
      "_dom_classes": [],
      "_model_module": "@jupyter-widgets/controls",
      "_model_module_version": "1.5.0",
      "_model_name": "FloatProgressModel",
      "_view_count": null,
      "_view_module": "@jupyter-widgets/controls",
      "_view_module_version": "1.5.0",
      "_view_name": "ProgressView",
      "bar_style": "success",
      "description": "",
      "description_tooltip": null,
      "layout": "IPY_MODEL_a732ea9dfcb54cbc9d1e14da20a4493c",
      "max": 1999,
      "min": 0,
      "orientation": "horizontal",
      "style": "IPY_MODEL_2f9921ead747407bb38b1596d374f44c",
      "value": 1999
     }
    },
    "3ed3e77d691e4c189134cec8cb483825": {
     "model_module": "@jupyter-widgets/controls",
     "model_module_version": "1.5.0",
     "model_name": "HBoxModel",
     "state": {
      "_dom_classes": [],
      "_model_module": "@jupyter-widgets/controls",
      "_model_module_version": "1.5.0",
      "_model_name": "HBoxModel",
      "_view_count": null,
      "_view_module": "@jupyter-widgets/controls",
      "_view_module_version": "1.5.0",
      "_view_name": "HBoxView",
      "box_style": "",
      "children": [
       "IPY_MODEL_24b89e4725ea4b0eb1b00739f54ef2fe",
       "IPY_MODEL_8e2628586c2a474194b2322614106cac",
       "IPY_MODEL_181a8ee715f2404ebc37780ffe83094f"
      ],
      "layout": "IPY_MODEL_c5e898711a4440598cd3e9b660933b41"
     }
    },
    "42615a1ca56448e4a5e6e10bb7ff7df3": {
     "model_module": "@jupyter-widgets/base",
     "model_module_version": "1.2.0",
     "model_name": "LayoutModel",
     "state": {
      "_model_module": "@jupyter-widgets/base",
      "_model_module_version": "1.2.0",
      "_model_name": "LayoutModel",
      "_view_count": null,
      "_view_module": "@jupyter-widgets/base",
      "_view_module_version": "1.2.0",
      "_view_name": "LayoutView",
      "align_content": null,
      "align_items": null,
      "align_self": null,
      "border": null,
      "bottom": null,
      "display": null,
      "flex": null,
      "flex_flow": null,
      "grid_area": null,
      "grid_auto_columns": null,
      "grid_auto_flow": null,
      "grid_auto_rows": null,
      "grid_column": null,
      "grid_gap": null,
      "grid_row": null,
      "grid_template_areas": null,
      "grid_template_columns": null,
      "grid_template_rows": null,
      "height": null,
      "justify_content": null,
      "justify_items": null,
      "left": null,
      "margin": null,
      "max_height": null,
      "max_width": null,
      "min_height": null,
      "min_width": null,
      "object_fit": null,
      "object_position": null,
      "order": null,
      "overflow": null,
      "overflow_x": null,
      "overflow_y": null,
      "padding": null,
      "right": null,
      "top": null,
      "visibility": null,
      "width": null
     }
    },
    "432b5ff16005471992fc932372f30fe1": {
     "model_module": "@jupyter-widgets/base",
     "model_module_version": "1.2.0",
     "model_name": "LayoutModel",
     "state": {
      "_model_module": "@jupyter-widgets/base",
      "_model_module_version": "1.2.0",
      "_model_name": "LayoutModel",
      "_view_count": null,
      "_view_module": "@jupyter-widgets/base",
      "_view_module_version": "1.2.0",
      "_view_name": "LayoutView",
      "align_content": null,
      "align_items": null,
      "align_self": null,
      "border": null,
      "bottom": null,
      "display": null,
      "flex": null,
      "flex_flow": null,
      "grid_area": null,
      "grid_auto_columns": null,
      "grid_auto_flow": null,
      "grid_auto_rows": null,
      "grid_column": null,
      "grid_gap": null,
      "grid_row": null,
      "grid_template_areas": null,
      "grid_template_columns": null,
      "grid_template_rows": null,
      "height": null,
      "justify_content": null,
      "justify_items": null,
      "left": null,
      "margin": null,
      "max_height": null,
      "max_width": null,
      "min_height": null,
      "min_width": null,
      "object_fit": null,
      "object_position": null,
      "order": null,
      "overflow": null,
      "overflow_x": null,
      "overflow_y": null,
      "padding": null,
      "right": null,
      "top": null,
      "visibility": null,
      "width": null
     }
    },
    "44e0246909af4d5a9761f003af80995d": {
     "model_module": "@jupyter-widgets/base",
     "model_module_version": "1.2.0",
     "model_name": "LayoutModel",
     "state": {
      "_model_module": "@jupyter-widgets/base",
      "_model_module_version": "1.2.0",
      "_model_name": "LayoutModel",
      "_view_count": null,
      "_view_module": "@jupyter-widgets/base",
      "_view_module_version": "1.2.0",
      "_view_name": "LayoutView",
      "align_content": null,
      "align_items": null,
      "align_self": null,
      "border": null,
      "bottom": null,
      "display": null,
      "flex": null,
      "flex_flow": null,
      "grid_area": null,
      "grid_auto_columns": null,
      "grid_auto_flow": null,
      "grid_auto_rows": null,
      "grid_column": null,
      "grid_gap": null,
      "grid_row": null,
      "grid_template_areas": null,
      "grid_template_columns": null,
      "grid_template_rows": null,
      "height": null,
      "justify_content": null,
      "justify_items": null,
      "left": null,
      "margin": null,
      "max_height": null,
      "max_width": null,
      "min_height": null,
      "min_width": null,
      "object_fit": null,
      "object_position": null,
      "order": null,
      "overflow": null,
      "overflow_x": null,
      "overflow_y": null,
      "padding": null,
      "right": null,
      "top": null,
      "visibility": null,
      "width": null
     }
    },
    "4a190d30942f4cebbbe2456e1720a471": {
     "model_module": "@jupyter-widgets/controls",
     "model_module_version": "1.5.0",
     "model_name": "FloatProgressModel",
     "state": {
      "_dom_classes": [],
      "_model_module": "@jupyter-widgets/controls",
      "_model_module_version": "1.5.0",
      "_model_name": "FloatProgressModel",
      "_view_count": null,
      "_view_module": "@jupyter-widgets/controls",
      "_view_module_version": "1.5.0",
      "_view_name": "ProgressView",
      "bar_style": "success",
      "description": "",
      "description_tooltip": null,
      "layout": "IPY_MODEL_42615a1ca56448e4a5e6e10bb7ff7df3",
      "max": 49999,
      "min": 0,
      "orientation": "horizontal",
      "style": "IPY_MODEL_391ee187041643dfb85e121376355d55",
      "value": 49999
     }
    },
    "4c09984ea38b41febd680f3700872717": {
     "model_module": "@jupyter-widgets/base",
     "model_module_version": "1.2.0",
     "model_name": "LayoutModel",
     "state": {
      "_model_module": "@jupyter-widgets/base",
      "_model_module_version": "1.2.0",
      "_model_name": "LayoutModel",
      "_view_count": null,
      "_view_module": "@jupyter-widgets/base",
      "_view_module_version": "1.2.0",
      "_view_name": "LayoutView",
      "align_content": null,
      "align_items": null,
      "align_self": null,
      "border": null,
      "bottom": null,
      "display": null,
      "flex": null,
      "flex_flow": null,
      "grid_area": null,
      "grid_auto_columns": null,
      "grid_auto_flow": null,
      "grid_auto_rows": null,
      "grid_column": null,
      "grid_gap": null,
      "grid_row": null,
      "grid_template_areas": null,
      "grid_template_columns": null,
      "grid_template_rows": null,
      "height": null,
      "justify_content": null,
      "justify_items": null,
      "left": null,
      "margin": null,
      "max_height": null,
      "max_width": null,
      "min_height": null,
      "min_width": null,
      "object_fit": null,
      "object_position": null,
      "order": null,
      "overflow": null,
      "overflow_x": null,
      "overflow_y": null,
      "padding": null,
      "right": null,
      "top": null,
      "visibility": null,
      "width": null
     }
    },
    "4c2841093a284f4b9deb7561aab148e0": {
     "model_module": "@jupyter-widgets/base",
     "model_module_version": "1.2.0",
     "model_name": "LayoutModel",
     "state": {
      "_model_module": "@jupyter-widgets/base",
      "_model_module_version": "1.2.0",
      "_model_name": "LayoutModel",
      "_view_count": null,
      "_view_module": "@jupyter-widgets/base",
      "_view_module_version": "1.2.0",
      "_view_name": "LayoutView",
      "align_content": null,
      "align_items": null,
      "align_self": null,
      "border": null,
      "bottom": null,
      "display": null,
      "flex": null,
      "flex_flow": null,
      "grid_area": null,
      "grid_auto_columns": null,
      "grid_auto_flow": null,
      "grid_auto_rows": null,
      "grid_column": null,
      "grid_gap": null,
      "grid_row": null,
      "grid_template_areas": null,
      "grid_template_columns": null,
      "grid_template_rows": null,
      "height": null,
      "justify_content": null,
      "justify_items": null,
      "left": null,
      "margin": null,
      "max_height": null,
      "max_width": null,
      "min_height": null,
      "min_width": null,
      "object_fit": null,
      "object_position": null,
      "order": null,
      "overflow": null,
      "overflow_x": null,
      "overflow_y": null,
      "padding": null,
      "right": null,
      "top": null,
      "visibility": null,
      "width": null
     }
    },
    "4c6fdb33ab704d78a1ab961e6caf7953": {
     "model_module": "@jupyter-widgets/controls",
     "model_module_version": "1.5.0",
     "model_name": "HBoxModel",
     "state": {
      "_dom_classes": [],
      "_model_module": "@jupyter-widgets/controls",
      "_model_module_version": "1.5.0",
      "_model_name": "HBoxModel",
      "_view_count": null,
      "_view_module": "@jupyter-widgets/controls",
      "_view_module_version": "1.5.0",
      "_view_name": "HBoxView",
      "box_style": "",
      "children": [
       "IPY_MODEL_57aec0f9b54f4ad295b665cb899a24e3",
       "IPY_MODEL_f01918eb738a47bcac5f2b4f8cc970fa",
       "IPY_MODEL_53c3bc0208f647f38cb1089db913b8d5"
      ],
      "layout": "IPY_MODEL_cd7195cb966343bbae0c846cefa310fc"
     }
    },
    "4d01944ab37f4120937829fc3f9699bb": {
     "model_module": "@jupyter-widgets/base",
     "model_module_version": "1.2.0",
     "model_name": "LayoutModel",
     "state": {
      "_model_module": "@jupyter-widgets/base",
      "_model_module_version": "1.2.0",
      "_model_name": "LayoutModel",
      "_view_count": null,
      "_view_module": "@jupyter-widgets/base",
      "_view_module_version": "1.2.0",
      "_view_name": "LayoutView",
      "align_content": null,
      "align_items": null,
      "align_self": null,
      "border": null,
      "bottom": null,
      "display": null,
      "flex": null,
      "flex_flow": null,
      "grid_area": null,
      "grid_auto_columns": null,
      "grid_auto_flow": null,
      "grid_auto_rows": null,
      "grid_column": null,
      "grid_gap": null,
      "grid_row": null,
      "grid_template_areas": null,
      "grid_template_columns": null,
      "grid_template_rows": null,
      "height": null,
      "justify_content": null,
      "justify_items": null,
      "left": null,
      "margin": null,
      "max_height": null,
      "max_width": null,
      "min_height": null,
      "min_width": null,
      "object_fit": null,
      "object_position": null,
      "order": null,
      "overflow": null,
      "overflow_x": null,
      "overflow_y": null,
      "padding": null,
      "right": null,
      "top": null,
      "visibility": null,
      "width": null
     }
    },
    "4e32887169604cbfb8c636d1ea7c754f": {
     "model_module": "@jupyter-widgets/base",
     "model_module_version": "1.2.0",
     "model_name": "LayoutModel",
     "state": {
      "_model_module": "@jupyter-widgets/base",
      "_model_module_version": "1.2.0",
      "_model_name": "LayoutModel",
      "_view_count": null,
      "_view_module": "@jupyter-widgets/base",
      "_view_module_version": "1.2.0",
      "_view_name": "LayoutView",
      "align_content": null,
      "align_items": null,
      "align_self": null,
      "border": null,
      "bottom": null,
      "display": null,
      "flex": null,
      "flex_flow": null,
      "grid_area": null,
      "grid_auto_columns": null,
      "grid_auto_flow": null,
      "grid_auto_rows": null,
      "grid_column": null,
      "grid_gap": null,
      "grid_row": null,
      "grid_template_areas": null,
      "grid_template_columns": null,
      "grid_template_rows": null,
      "height": null,
      "justify_content": null,
      "justify_items": null,
      "left": null,
      "margin": null,
      "max_height": null,
      "max_width": null,
      "min_height": null,
      "min_width": null,
      "object_fit": null,
      "object_position": null,
      "order": null,
      "overflow": null,
      "overflow_x": null,
      "overflow_y": null,
      "padding": null,
      "right": null,
      "top": null,
      "visibility": null,
      "width": null
     }
    },
    "532bdd2410f54cd287fea1aa77535c8a": {
     "model_module": "@jupyter-widgets/controls",
     "model_module_version": "1.5.0",
     "model_name": "DescriptionStyleModel",
     "state": {
      "_model_module": "@jupyter-widgets/controls",
      "_model_module_version": "1.5.0",
      "_model_name": "DescriptionStyleModel",
      "_view_count": null,
      "_view_module": "@jupyter-widgets/base",
      "_view_module_version": "1.2.0",
      "_view_name": "StyleView",
      "description_width": ""
     }
    },
    "53c3bc0208f647f38cb1089db913b8d5": {
     "model_module": "@jupyter-widgets/controls",
     "model_module_version": "1.5.0",
     "model_name": "HTMLModel",
     "state": {
      "_dom_classes": [],
      "_model_module": "@jupyter-widgets/controls",
      "_model_module_version": "1.5.0",
      "_model_name": "HTMLModel",
      "_view_count": null,
      "_view_module": "@jupyter-widgets/controls",
      "_view_module_version": "1.5.0",
      "_view_name": "HTMLView",
      "description": "",
      "description_tooltip": null,
      "layout": "IPY_MODEL_18460bb3a6f54c128a658b5fa599cc13",
      "placeholder": "​",
      "style": "IPY_MODEL_f20aaef2a9984fa2ab259071390eeb3f",
      "value": " 49999/49999 [00:04&lt;00:00, 10145.84it/s]"
     }
    },
    "549e0070af7e40659562f23d76fe513d": {
     "model_module": "@jupyter-widgets/controls",
     "model_module_version": "1.5.0",
     "model_name": "HBoxModel",
     "state": {
      "_dom_classes": [],
      "_model_module": "@jupyter-widgets/controls",
      "_model_module_version": "1.5.0",
      "_model_name": "HBoxModel",
      "_view_count": null,
      "_view_module": "@jupyter-widgets/controls",
      "_view_module_version": "1.5.0",
      "_view_name": "HBoxView",
      "box_style": "",
      "children": [
       "IPY_MODEL_84df7a3890e9487bb8b46b5bcb49c971",
       "IPY_MODEL_3d454cbc864b4ca4abf54a1ee6657535",
       "IPY_MODEL_c9973cd73bbd4836ae36894b821f0c63"
      ],
      "layout": "IPY_MODEL_db135d7e4bae4e75b856f392a73f7bb7"
     }
    },
    "555005aaa9f340d89495254ff6e113d2": {
     "model_module": "@jupyter-widgets/controls",
     "model_module_version": "1.5.0",
     "model_name": "DescriptionStyleModel",
     "state": {
      "_model_module": "@jupyter-widgets/controls",
      "_model_module_version": "1.5.0",
      "_model_name": "DescriptionStyleModel",
      "_view_count": null,
      "_view_module": "@jupyter-widgets/base",
      "_view_module_version": "1.2.0",
      "_view_name": "StyleView",
      "description_width": ""
     }
    },
    "56fefde40e044ca9a3143b5d68f3e79f": {
     "model_module": "@jupyter-widgets/controls",
     "model_module_version": "1.5.0",
     "model_name": "DescriptionStyleModel",
     "state": {
      "_model_module": "@jupyter-widgets/controls",
      "_model_module_version": "1.5.0",
      "_model_name": "DescriptionStyleModel",
      "_view_count": null,
      "_view_module": "@jupyter-widgets/base",
      "_view_module_version": "1.2.0",
      "_view_name": "StyleView",
      "description_width": ""
     }
    },
    "57aec0f9b54f4ad295b665cb899a24e3": {
     "model_module": "@jupyter-widgets/controls",
     "model_module_version": "1.5.0",
     "model_name": "HTMLModel",
     "state": {
      "_dom_classes": [],
      "_model_module": "@jupyter-widgets/controls",
      "_model_module_version": "1.5.0",
      "_model_name": "HTMLModel",
      "_view_count": null,
      "_view_module": "@jupyter-widgets/controls",
      "_view_module_version": "1.5.0",
      "_view_name": "HTMLView",
      "description": "",
      "description_tooltip": null,
      "layout": "IPY_MODEL_ed5bf004725b40ed8e584efb78098fa2",
      "placeholder": "​",
      "style": "IPY_MODEL_56fefde40e044ca9a3143b5d68f3e79f",
      "value": "100%"
     }
    },
    "5bac4f2faa7a4c3aa51a5b86c4e873a1": {
     "model_module": "@jupyter-widgets/controls",
     "model_module_version": "1.5.0",
     "model_name": "HBoxModel",
     "state": {
      "_dom_classes": [],
      "_model_module": "@jupyter-widgets/controls",
      "_model_module_version": "1.5.0",
      "_model_name": "HBoxModel",
      "_view_count": null,
      "_view_module": "@jupyter-widgets/controls",
      "_view_module_version": "1.5.0",
      "_view_name": "HBoxView",
      "box_style": "",
      "children": [
       "IPY_MODEL_8b062d48eded4ad79e3af9e9bf3b497b",
       "IPY_MODEL_ff6d4e9803d24f7399025f49b29dc037",
       "IPY_MODEL_03881b0e45614431b4f38eebe668a203"
      ],
      "layout": "IPY_MODEL_4d01944ab37f4120937829fc3f9699bb"
     }
    },
    "63b232b9e1eb482dbab295aea50882e5": {
     "model_module": "@jupyter-widgets/controls",
     "model_module_version": "1.5.0",
     "model_name": "ProgressStyleModel",
     "state": {
      "_model_module": "@jupyter-widgets/controls",
      "_model_module_version": "1.5.0",
      "_model_name": "ProgressStyleModel",
      "_view_count": null,
      "_view_module": "@jupyter-widgets/base",
      "_view_module_version": "1.2.0",
      "_view_name": "StyleView",
      "bar_color": null,
      "description_width": ""
     }
    },
    "668941c748be4648bf73bf474c9bd7e1": {
     "model_module": "@jupyter-widgets/base",
     "model_module_version": "1.2.0",
     "model_name": "LayoutModel",
     "state": {
      "_model_module": "@jupyter-widgets/base",
      "_model_module_version": "1.2.0",
      "_model_name": "LayoutModel",
      "_view_count": null,
      "_view_module": "@jupyter-widgets/base",
      "_view_module_version": "1.2.0",
      "_view_name": "LayoutView",
      "align_content": null,
      "align_items": null,
      "align_self": null,
      "border": null,
      "bottom": null,
      "display": null,
      "flex": null,
      "flex_flow": null,
      "grid_area": null,
      "grid_auto_columns": null,
      "grid_auto_flow": null,
      "grid_auto_rows": null,
      "grid_column": null,
      "grid_gap": null,
      "grid_row": null,
      "grid_template_areas": null,
      "grid_template_columns": null,
      "grid_template_rows": null,
      "height": null,
      "justify_content": null,
      "justify_items": null,
      "left": null,
      "margin": null,
      "max_height": null,
      "max_width": null,
      "min_height": null,
      "min_width": null,
      "object_fit": null,
      "object_position": null,
      "order": null,
      "overflow": null,
      "overflow_x": null,
      "overflow_y": null,
      "padding": null,
      "right": null,
      "top": null,
      "visibility": null,
      "width": null
     }
    },
    "6ae3967aee9b4f288d39420db48cf20f": {
     "model_module": "@jupyter-widgets/controls",
     "model_module_version": "1.5.0",
     "model_name": "ProgressStyleModel",
     "state": {
      "_model_module": "@jupyter-widgets/controls",
      "_model_module_version": "1.5.0",
      "_model_name": "ProgressStyleModel",
      "_view_count": null,
      "_view_module": "@jupyter-widgets/base",
      "_view_module_version": "1.2.0",
      "_view_name": "StyleView",
      "bar_color": null,
      "description_width": ""
     }
    },
    "746eb8f933624ca6a3d41d6b14bd7336": {
     "model_module": "@jupyter-widgets/controls",
     "model_module_version": "1.5.0",
     "model_name": "ProgressStyleModel",
     "state": {
      "_model_module": "@jupyter-widgets/controls",
      "_model_module_version": "1.5.0",
      "_model_name": "ProgressStyleModel",
      "_view_count": null,
      "_view_module": "@jupyter-widgets/base",
      "_view_module_version": "1.2.0",
      "_view_name": "StyleView",
      "bar_color": null,
      "description_width": ""
     }
    },
    "7856d4d35e2c4ceab586363c6f4bc0fd": {
     "model_module": "@jupyter-widgets/base",
     "model_module_version": "1.2.0",
     "model_name": "LayoutModel",
     "state": {
      "_model_module": "@jupyter-widgets/base",
      "_model_module_version": "1.2.0",
      "_model_name": "LayoutModel",
      "_view_count": null,
      "_view_module": "@jupyter-widgets/base",
      "_view_module_version": "1.2.0",
      "_view_name": "LayoutView",
      "align_content": null,
      "align_items": null,
      "align_self": null,
      "border": null,
      "bottom": null,
      "display": null,
      "flex": null,
      "flex_flow": null,
      "grid_area": null,
      "grid_auto_columns": null,
      "grid_auto_flow": null,
      "grid_auto_rows": null,
      "grid_column": null,
      "grid_gap": null,
      "grid_row": null,
      "grid_template_areas": null,
      "grid_template_columns": null,
      "grid_template_rows": null,
      "height": null,
      "justify_content": null,
      "justify_items": null,
      "left": null,
      "margin": null,
      "max_height": null,
      "max_width": null,
      "min_height": null,
      "min_width": null,
      "object_fit": null,
      "object_position": null,
      "order": null,
      "overflow": null,
      "overflow_x": null,
      "overflow_y": null,
      "padding": null,
      "right": null,
      "top": null,
      "visibility": null,
      "width": null
     }
    },
    "84b6d2b8ce484aef8aac88211c5c2822": {
     "model_module": "@jupyter-widgets/controls",
     "model_module_version": "1.5.0",
     "model_name": "DescriptionStyleModel",
     "state": {
      "_model_module": "@jupyter-widgets/controls",
      "_model_module_version": "1.5.0",
      "_model_name": "DescriptionStyleModel",
      "_view_count": null,
      "_view_module": "@jupyter-widgets/base",
      "_view_module_version": "1.2.0",
      "_view_name": "StyleView",
      "description_width": ""
     }
    },
    "84df7a3890e9487bb8b46b5bcb49c971": {
     "model_module": "@jupyter-widgets/controls",
     "model_module_version": "1.5.0",
     "model_name": "HTMLModel",
     "state": {
      "_dom_classes": [],
      "_model_module": "@jupyter-widgets/controls",
      "_model_module_version": "1.5.0",
      "_model_name": "HTMLModel",
      "_view_count": null,
      "_view_module": "@jupyter-widgets/controls",
      "_view_module_version": "1.5.0",
      "_view_name": "HTMLView",
      "description": "",
      "description_tooltip": null,
      "layout": "IPY_MODEL_4c2841093a284f4b9deb7561aab148e0",
      "placeholder": "​",
      "style": "IPY_MODEL_c94b337c27a244c0b49511046f2ef58b",
      "value": "100%"
     }
    },
    "8b062d48eded4ad79e3af9e9bf3b497b": {
     "model_module": "@jupyter-widgets/controls",
     "model_module_version": "1.5.0",
     "model_name": "HTMLModel",
     "state": {
      "_dom_classes": [],
      "_model_module": "@jupyter-widgets/controls",
      "_model_module_version": "1.5.0",
      "_model_name": "HTMLModel",
      "_view_count": null,
      "_view_module": "@jupyter-widgets/controls",
      "_view_module_version": "1.5.0",
      "_view_name": "HTMLView",
      "description": "",
      "description_tooltip": null,
      "layout": "IPY_MODEL_3d12dcee1a6f4a278c1b99c9f5eedf5a",
      "placeholder": "​",
      "style": "IPY_MODEL_d3387c46ee8944d49639f65c21084cac",
      "value": "100%"
     }
    },
    "8e2628586c2a474194b2322614106cac": {
     "model_module": "@jupyter-widgets/controls",
     "model_module_version": "1.5.0",
     "model_name": "FloatProgressModel",
     "state": {
      "_dom_classes": [],
      "_model_module": "@jupyter-widgets/controls",
      "_model_module_version": "1.5.0",
      "_model_name": "FloatProgressModel",
      "_view_count": null,
      "_view_module": "@jupyter-widgets/controls",
      "_view_module_version": "1.5.0",
      "_view_name": "ProgressView",
      "bar_style": "success",
      "description": "",
      "description_tooltip": null,
      "layout": "IPY_MODEL_432b5ff16005471992fc932372f30fe1",
      "max": 1999,
      "min": 0,
      "orientation": "horizontal",
      "style": "IPY_MODEL_6ae3967aee9b4f288d39420db48cf20f",
      "value": 1999
     }
    },
    "8e2b87bb47bd4b3eb01bc84a9e3989b2": {
     "model_module": "@jupyter-widgets/base",
     "model_module_version": "1.2.0",
     "model_name": "LayoutModel",
     "state": {
      "_model_module": "@jupyter-widgets/base",
      "_model_module_version": "1.2.0",
      "_model_name": "LayoutModel",
      "_view_count": null,
      "_view_module": "@jupyter-widgets/base",
      "_view_module_version": "1.2.0",
      "_view_name": "LayoutView",
      "align_content": null,
      "align_items": null,
      "align_self": null,
      "border": null,
      "bottom": null,
      "display": null,
      "flex": null,
      "flex_flow": null,
      "grid_area": null,
      "grid_auto_columns": null,
      "grid_auto_flow": null,
      "grid_auto_rows": null,
      "grid_column": null,
      "grid_gap": null,
      "grid_row": null,
      "grid_template_areas": null,
      "grid_template_columns": null,
      "grid_template_rows": null,
      "height": null,
      "justify_content": null,
      "justify_items": null,
      "left": null,
      "margin": null,
      "max_height": null,
      "max_width": null,
      "min_height": null,
      "min_width": null,
      "object_fit": null,
      "object_position": null,
      "order": null,
      "overflow": null,
      "overflow_x": null,
      "overflow_y": null,
      "padding": null,
      "right": null,
      "top": null,
      "visibility": null,
      "width": null
     }
    },
    "9286a107b6fe43b9a60df83bce942972": {
     "model_module": "@jupyter-widgets/base",
     "model_module_version": "1.2.0",
     "model_name": "LayoutModel",
     "state": {
      "_model_module": "@jupyter-widgets/base",
      "_model_module_version": "1.2.0",
      "_model_name": "LayoutModel",
      "_view_count": null,
      "_view_module": "@jupyter-widgets/base",
      "_view_module_version": "1.2.0",
      "_view_name": "LayoutView",
      "align_content": null,
      "align_items": null,
      "align_self": null,
      "border": null,
      "bottom": null,
      "display": null,
      "flex": null,
      "flex_flow": null,
      "grid_area": null,
      "grid_auto_columns": null,
      "grid_auto_flow": null,
      "grid_auto_rows": null,
      "grid_column": null,
      "grid_gap": null,
      "grid_row": null,
      "grid_template_areas": null,
      "grid_template_columns": null,
      "grid_template_rows": null,
      "height": null,
      "justify_content": null,
      "justify_items": null,
      "left": null,
      "margin": null,
      "max_height": null,
      "max_width": null,
      "min_height": null,
      "min_width": null,
      "object_fit": null,
      "object_position": null,
      "order": null,
      "overflow": null,
      "overflow_x": null,
      "overflow_y": null,
      "padding": null,
      "right": null,
      "top": null,
      "visibility": null,
      "width": null
     }
    },
    "93cdee1b7b6143519eb0efa0e2da1462": {
     "model_module": "@jupyter-widgets/controls",
     "model_module_version": "1.5.0",
     "model_name": "HBoxModel",
     "state": {
      "_dom_classes": [],
      "_model_module": "@jupyter-widgets/controls",
      "_model_module_version": "1.5.0",
      "_model_name": "HBoxModel",
      "_view_count": null,
      "_view_module": "@jupyter-widgets/controls",
      "_view_module_version": "1.5.0",
      "_view_name": "HBoxView",
      "box_style": "",
      "children": [
       "IPY_MODEL_2c23461c05c24451976714ffdafde6ae",
       "IPY_MODEL_4a190d30942f4cebbbe2456e1720a471",
       "IPY_MODEL_e1ba7003cec44a00aeab438f3dd569b8"
      ],
      "layout": "IPY_MODEL_4c09984ea38b41febd680f3700872717"
     }
    },
    "99156d772ba340a889d73a0cc03bfc34": {
     "model_module": "@jupyter-widgets/controls",
     "model_module_version": "1.5.0",
     "model_name": "DescriptionStyleModel",
     "state": {
      "_model_module": "@jupyter-widgets/controls",
      "_model_module_version": "1.5.0",
      "_model_name": "DescriptionStyleModel",
      "_view_count": null,
      "_view_module": "@jupyter-widgets/base",
      "_view_module_version": "1.2.0",
      "_view_name": "StyleView",
      "description_width": ""
     }
    },
    "9ea7b68b20c24f6da1194b580b4c7f9d": {
     "model_module": "@jupyter-widgets/base",
     "model_module_version": "1.2.0",
     "model_name": "LayoutModel",
     "state": {
      "_model_module": "@jupyter-widgets/base",
      "_model_module_version": "1.2.0",
      "_model_name": "LayoutModel",
      "_view_count": null,
      "_view_module": "@jupyter-widgets/base",
      "_view_module_version": "1.2.0",
      "_view_name": "LayoutView",
      "align_content": null,
      "align_items": null,
      "align_self": null,
      "border": null,
      "bottom": null,
      "display": null,
      "flex": null,
      "flex_flow": null,
      "grid_area": null,
      "grid_auto_columns": null,
      "grid_auto_flow": null,
      "grid_auto_rows": null,
      "grid_column": null,
      "grid_gap": null,
      "grid_row": null,
      "grid_template_areas": null,
      "grid_template_columns": null,
      "grid_template_rows": null,
      "height": null,
      "justify_content": null,
      "justify_items": null,
      "left": null,
      "margin": null,
      "max_height": null,
      "max_width": null,
      "min_height": null,
      "min_width": null,
      "object_fit": null,
      "object_position": null,
      "order": null,
      "overflow": null,
      "overflow_x": null,
      "overflow_y": null,
      "padding": null,
      "right": null,
      "top": null,
      "visibility": null,
      "width": null
     }
    },
    "a732ea9dfcb54cbc9d1e14da20a4493c": {
     "model_module": "@jupyter-widgets/base",
     "model_module_version": "1.2.0",
     "model_name": "LayoutModel",
     "state": {
      "_model_module": "@jupyter-widgets/base",
      "_model_module_version": "1.2.0",
      "_model_name": "LayoutModel",
      "_view_count": null,
      "_view_module": "@jupyter-widgets/base",
      "_view_module_version": "1.2.0",
      "_view_name": "LayoutView",
      "align_content": null,
      "align_items": null,
      "align_self": null,
      "border": null,
      "bottom": null,
      "display": null,
      "flex": null,
      "flex_flow": null,
      "grid_area": null,
      "grid_auto_columns": null,
      "grid_auto_flow": null,
      "grid_auto_rows": null,
      "grid_column": null,
      "grid_gap": null,
      "grid_row": null,
      "grid_template_areas": null,
      "grid_template_columns": null,
      "grid_template_rows": null,
      "height": null,
      "justify_content": null,
      "justify_items": null,
      "left": null,
      "margin": null,
      "max_height": null,
      "max_width": null,
      "min_height": null,
      "min_width": null,
      "object_fit": null,
      "object_position": null,
      "order": null,
      "overflow": null,
      "overflow_x": null,
      "overflow_y": null,
      "padding": null,
      "right": null,
      "top": null,
      "visibility": null,
      "width": null
     }
    },
    "ab53f955868b4df28c86661d475fe5c1": {
     "model_module": "@jupyter-widgets/base",
     "model_module_version": "1.2.0",
     "model_name": "LayoutModel",
     "state": {
      "_model_module": "@jupyter-widgets/base",
      "_model_module_version": "1.2.0",
      "_model_name": "LayoutModel",
      "_view_count": null,
      "_view_module": "@jupyter-widgets/base",
      "_view_module_version": "1.2.0",
      "_view_name": "LayoutView",
      "align_content": null,
      "align_items": null,
      "align_self": null,
      "border": null,
      "bottom": null,
      "display": null,
      "flex": null,
      "flex_flow": null,
      "grid_area": null,
      "grid_auto_columns": null,
      "grid_auto_flow": null,
      "grid_auto_rows": null,
      "grid_column": null,
      "grid_gap": null,
      "grid_row": null,
      "grid_template_areas": null,
      "grid_template_columns": null,
      "grid_template_rows": null,
      "height": null,
      "justify_content": null,
      "justify_items": null,
      "left": null,
      "margin": null,
      "max_height": null,
      "max_width": null,
      "min_height": null,
      "min_width": null,
      "object_fit": null,
      "object_position": null,
      "order": null,
      "overflow": null,
      "overflow_x": null,
      "overflow_y": null,
      "padding": null,
      "right": null,
      "top": null,
      "visibility": null,
      "width": null
     }
    },
    "c5e0474d3cdc4559a3cac55c57f696f6": {
     "model_module": "@jupyter-widgets/base",
     "model_module_version": "1.2.0",
     "model_name": "LayoutModel",
     "state": {
      "_model_module": "@jupyter-widgets/base",
      "_model_module_version": "1.2.0",
      "_model_name": "LayoutModel",
      "_view_count": null,
      "_view_module": "@jupyter-widgets/base",
      "_view_module_version": "1.2.0",
      "_view_name": "LayoutView",
      "align_content": null,
      "align_items": null,
      "align_self": null,
      "border": null,
      "bottom": null,
      "display": null,
      "flex": null,
      "flex_flow": null,
      "grid_area": null,
      "grid_auto_columns": null,
      "grid_auto_flow": null,
      "grid_auto_rows": null,
      "grid_column": null,
      "grid_gap": null,
      "grid_row": null,
      "grid_template_areas": null,
      "grid_template_columns": null,
      "grid_template_rows": null,
      "height": null,
      "justify_content": null,
      "justify_items": null,
      "left": null,
      "margin": null,
      "max_height": null,
      "max_width": null,
      "min_height": null,
      "min_width": null,
      "object_fit": null,
      "object_position": null,
      "order": null,
      "overflow": null,
      "overflow_x": null,
      "overflow_y": null,
      "padding": null,
      "right": null,
      "top": null,
      "visibility": null,
      "width": null
     }
    },
    "c5e898711a4440598cd3e9b660933b41": {
     "model_module": "@jupyter-widgets/base",
     "model_module_version": "1.2.0",
     "model_name": "LayoutModel",
     "state": {
      "_model_module": "@jupyter-widgets/base",
      "_model_module_version": "1.2.0",
      "_model_name": "LayoutModel",
      "_view_count": null,
      "_view_module": "@jupyter-widgets/base",
      "_view_module_version": "1.2.0",
      "_view_name": "LayoutView",
      "align_content": null,
      "align_items": null,
      "align_self": null,
      "border": null,
      "bottom": null,
      "display": null,
      "flex": null,
      "flex_flow": null,
      "grid_area": null,
      "grid_auto_columns": null,
      "grid_auto_flow": null,
      "grid_auto_rows": null,
      "grid_column": null,
      "grid_gap": null,
      "grid_row": null,
      "grid_template_areas": null,
      "grid_template_columns": null,
      "grid_template_rows": null,
      "height": null,
      "justify_content": null,
      "justify_items": null,
      "left": null,
      "margin": null,
      "max_height": null,
      "max_width": null,
      "min_height": null,
      "min_width": null,
      "object_fit": null,
      "object_position": null,
      "order": null,
      "overflow": null,
      "overflow_x": null,
      "overflow_y": null,
      "padding": null,
      "right": null,
      "top": null,
      "visibility": null,
      "width": null
     }
    },
    "c7ab5e4212234bbbbb35edf83a4d5f3e": {
     "model_module": "@jupyter-widgets/controls",
     "model_module_version": "1.5.0",
     "model_name": "DescriptionStyleModel",
     "state": {
      "_model_module": "@jupyter-widgets/controls",
      "_model_module_version": "1.5.0",
      "_model_name": "DescriptionStyleModel",
      "_view_count": null,
      "_view_module": "@jupyter-widgets/base",
      "_view_module_version": "1.2.0",
      "_view_name": "StyleView",
      "description_width": ""
     }
    },
    "c837c25591524c618cd41790cd044169": {
     "model_module": "@jupyter-widgets/controls",
     "model_module_version": "1.5.0",
     "model_name": "HTMLModel",
     "state": {
      "_dom_classes": [],
      "_model_module": "@jupyter-widgets/controls",
      "_model_module_version": "1.5.0",
      "_model_name": "HTMLModel",
      "_view_count": null,
      "_view_module": "@jupyter-widgets/controls",
      "_view_module_version": "1.5.0",
      "_view_name": "HTMLView",
      "description": "",
      "description_tooltip": null,
      "layout": "IPY_MODEL_7856d4d35e2c4ceab586363c6f4bc0fd",
      "placeholder": "​",
      "style": "IPY_MODEL_c7ab5e4212234bbbbb35edf83a4d5f3e",
      "value": " 2499/2499 [00:00&lt;00:00, 2908.04it/s]"
     }
    },
    "c94b337c27a244c0b49511046f2ef58b": {
     "model_module": "@jupyter-widgets/controls",
     "model_module_version": "1.5.0",
     "model_name": "DescriptionStyleModel",
     "state": {
      "_model_module": "@jupyter-widgets/controls",
      "_model_module_version": "1.5.0",
      "_model_name": "DescriptionStyleModel",
      "_view_count": null,
      "_view_module": "@jupyter-widgets/base",
      "_view_module_version": "1.2.0",
      "_view_name": "StyleView",
      "description_width": ""
     }
    },
    "c9973cd73bbd4836ae36894b821f0c63": {
     "model_module": "@jupyter-widgets/controls",
     "model_module_version": "1.5.0",
     "model_name": "HTMLModel",
     "state": {
      "_dom_classes": [],
      "_model_module": "@jupyter-widgets/controls",
      "_model_module_version": "1.5.0",
      "_model_name": "HTMLModel",
      "_view_count": null,
      "_view_module": "@jupyter-widgets/controls",
      "_view_module_version": "1.5.0",
      "_view_name": "HTMLView",
      "description": "",
      "description_tooltip": null,
      "layout": "IPY_MODEL_9286a107b6fe43b9a60df83bce942972",
      "placeholder": "​",
      "style": "IPY_MODEL_da5a3f267ad2461592a36bbb15336c35",
      "value": " 1999/1999 [00:00&lt;00:00, 9549.21it/s]"
     }
    },
    "cb3dc3ce5a9c461f8ad7bf2234dee7c5": {
     "model_module": "@jupyter-widgets/controls",
     "model_module_version": "1.5.0",
     "model_name": "FloatProgressModel",
     "state": {
      "_dom_classes": [],
      "_model_module": "@jupyter-widgets/controls",
      "_model_module_version": "1.5.0",
      "_model_name": "FloatProgressModel",
      "_view_count": null,
      "_view_module": "@jupyter-widgets/controls",
      "_view_module_version": "1.5.0",
      "_view_name": "ProgressView",
      "bar_style": "success",
      "description": "",
      "description_tooltip": null,
      "layout": "IPY_MODEL_e8f62cb8f2e74e42ac93018d7acbe58f",
      "max": 2499,
      "min": 0,
      "orientation": "horizontal",
      "style": "IPY_MODEL_746eb8f933624ca6a3d41d6b14bd7336",
      "value": 2499
     }
    },
    "cd7195cb966343bbae0c846cefa310fc": {
     "model_module": "@jupyter-widgets/base",
     "model_module_version": "1.2.0",
     "model_name": "LayoutModel",
     "state": {
      "_model_module": "@jupyter-widgets/base",
      "_model_module_version": "1.2.0",
      "_model_name": "LayoutModel",
      "_view_count": null,
      "_view_module": "@jupyter-widgets/base",
      "_view_module_version": "1.2.0",
      "_view_name": "LayoutView",
      "align_content": null,
      "align_items": null,
      "align_self": null,
      "border": null,
      "bottom": null,
      "display": null,
      "flex": null,
      "flex_flow": null,
      "grid_area": null,
      "grid_auto_columns": null,
      "grid_auto_flow": null,
      "grid_auto_rows": null,
      "grid_column": null,
      "grid_gap": null,
      "grid_row": null,
      "grid_template_areas": null,
      "grid_template_columns": null,
      "grid_template_rows": null,
      "height": null,
      "justify_content": null,
      "justify_items": null,
      "left": null,
      "margin": null,
      "max_height": null,
      "max_width": null,
      "min_height": null,
      "min_width": null,
      "object_fit": null,
      "object_position": null,
      "order": null,
      "overflow": null,
      "overflow_x": null,
      "overflow_y": null,
      "padding": null,
      "right": null,
      "top": null,
      "visibility": null,
      "width": null
     }
    },
    "d3387c46ee8944d49639f65c21084cac": {
     "model_module": "@jupyter-widgets/controls",
     "model_module_version": "1.5.0",
     "model_name": "DescriptionStyleModel",
     "state": {
      "_model_module": "@jupyter-widgets/controls",
      "_model_module_version": "1.5.0",
      "_model_name": "DescriptionStyleModel",
      "_view_count": null,
      "_view_module": "@jupyter-widgets/base",
      "_view_module_version": "1.2.0",
      "_view_name": "StyleView",
      "description_width": ""
     }
    },
    "da5a3f267ad2461592a36bbb15336c35": {
     "model_module": "@jupyter-widgets/controls",
     "model_module_version": "1.5.0",
     "model_name": "DescriptionStyleModel",
     "state": {
      "_model_module": "@jupyter-widgets/controls",
      "_model_module_version": "1.5.0",
      "_model_name": "DescriptionStyleModel",
      "_view_count": null,
      "_view_module": "@jupyter-widgets/base",
      "_view_module_version": "1.2.0",
      "_view_name": "StyleView",
      "description_width": ""
     }
    },
    "db135d7e4bae4e75b856f392a73f7bb7": {
     "model_module": "@jupyter-widgets/base",
     "model_module_version": "1.2.0",
     "model_name": "LayoutModel",
     "state": {
      "_model_module": "@jupyter-widgets/base",
      "_model_module_version": "1.2.0",
      "_model_name": "LayoutModel",
      "_view_count": null,
      "_view_module": "@jupyter-widgets/base",
      "_view_module_version": "1.2.0",
      "_view_name": "LayoutView",
      "align_content": null,
      "align_items": null,
      "align_self": null,
      "border": null,
      "bottom": null,
      "display": null,
      "flex": null,
      "flex_flow": null,
      "grid_area": null,
      "grid_auto_columns": null,
      "grid_auto_flow": null,
      "grid_auto_rows": null,
      "grid_column": null,
      "grid_gap": null,
      "grid_row": null,
      "grid_template_areas": null,
      "grid_template_columns": null,
      "grid_template_rows": null,
      "height": null,
      "justify_content": null,
      "justify_items": null,
      "left": null,
      "margin": null,
      "max_height": null,
      "max_width": null,
      "min_height": null,
      "min_width": null,
      "object_fit": null,
      "object_position": null,
      "order": null,
      "overflow": null,
      "overflow_x": null,
      "overflow_y": null,
      "padding": null,
      "right": null,
      "top": null,
      "visibility": null,
      "width": null
     }
    },
    "e1ba7003cec44a00aeab438f3dd569b8": {
     "model_module": "@jupyter-widgets/controls",
     "model_module_version": "1.5.0",
     "model_name": "HTMLModel",
     "state": {
      "_dom_classes": [],
      "_model_module": "@jupyter-widgets/controls",
      "_model_module_version": "1.5.0",
      "_model_name": "HTMLModel",
      "_view_count": null,
      "_view_module": "@jupyter-widgets/controls",
      "_view_module_version": "1.5.0",
      "_view_name": "HTMLView",
      "description": "",
      "description_tooltip": null,
      "layout": "IPY_MODEL_668941c748be4648bf73bf474c9bd7e1",
      "placeholder": "​",
      "style": "IPY_MODEL_1e2581ec98bd4f62977b54be49f0c206",
      "value": " 49999/49999 [02:15&lt;00:00, 372.11it/s]"
     }
    },
    "e3a7df76266d49de91016dfb2e633bc1": {
     "model_module": "@jupyter-widgets/controls",
     "model_module_version": "1.5.0",
     "model_name": "HTMLModel",
     "state": {
      "_dom_classes": [],
      "_model_module": "@jupyter-widgets/controls",
      "_model_module_version": "1.5.0",
      "_model_name": "HTMLModel",
      "_view_count": null,
      "_view_module": "@jupyter-widgets/controls",
      "_view_module_version": "1.5.0",
      "_view_name": "HTMLView",
      "description": "",
      "description_tooltip": null,
      "layout": "IPY_MODEL_ab53f955868b4df28c86661d475fe5c1",
      "placeholder": "​",
      "style": "IPY_MODEL_1625233157fe4d1a940b8b3b796db057",
      "value": "100%"
     }
    },
    "e8f62cb8f2e74e42ac93018d7acbe58f": {
     "model_module": "@jupyter-widgets/base",
     "model_module_version": "1.2.0",
     "model_name": "LayoutModel",
     "state": {
      "_model_module": "@jupyter-widgets/base",
      "_model_module_version": "1.2.0",
      "_model_name": "LayoutModel",
      "_view_count": null,
      "_view_module": "@jupyter-widgets/base",
      "_view_module_version": "1.2.0",
      "_view_name": "LayoutView",
      "align_content": null,
      "align_items": null,
      "align_self": null,
      "border": null,
      "bottom": null,
      "display": null,
      "flex": null,
      "flex_flow": null,
      "grid_area": null,
      "grid_auto_columns": null,
      "grid_auto_flow": null,
      "grid_auto_rows": null,
      "grid_column": null,
      "grid_gap": null,
      "grid_row": null,
      "grid_template_areas": null,
      "grid_template_columns": null,
      "grid_template_rows": null,
      "height": null,
      "justify_content": null,
      "justify_items": null,
      "left": null,
      "margin": null,
      "max_height": null,
      "max_width": null,
      "min_height": null,
      "min_width": null,
      "object_fit": null,
      "object_position": null,
      "order": null,
      "overflow": null,
      "overflow_x": null,
      "overflow_y": null,
      "padding": null,
      "right": null,
      "top": null,
      "visibility": null,
      "width": null
     }
    },
    "ed5bf004725b40ed8e584efb78098fa2": {
     "model_module": "@jupyter-widgets/base",
     "model_module_version": "1.2.0",
     "model_name": "LayoutModel",
     "state": {
      "_model_module": "@jupyter-widgets/base",
      "_model_module_version": "1.2.0",
      "_model_name": "LayoutModel",
      "_view_count": null,
      "_view_module": "@jupyter-widgets/base",
      "_view_module_version": "1.2.0",
      "_view_name": "LayoutView",
      "align_content": null,
      "align_items": null,
      "align_self": null,
      "border": null,
      "bottom": null,
      "display": null,
      "flex": null,
      "flex_flow": null,
      "grid_area": null,
      "grid_auto_columns": null,
      "grid_auto_flow": null,
      "grid_auto_rows": null,
      "grid_column": null,
      "grid_gap": null,
      "grid_row": null,
      "grid_template_areas": null,
      "grid_template_columns": null,
      "grid_template_rows": null,
      "height": null,
      "justify_content": null,
      "justify_items": null,
      "left": null,
      "margin": null,
      "max_height": null,
      "max_width": null,
      "min_height": null,
      "min_width": null,
      "object_fit": null,
      "object_position": null,
      "order": null,
      "overflow": null,
      "overflow_x": null,
      "overflow_y": null,
      "padding": null,
      "right": null,
      "top": null,
      "visibility": null,
      "width": null
     }
    },
    "f01918eb738a47bcac5f2b4f8cc970fa": {
     "model_module": "@jupyter-widgets/controls",
     "model_module_version": "1.5.0",
     "model_name": "FloatProgressModel",
     "state": {
      "_dom_classes": [],
      "_model_module": "@jupyter-widgets/controls",
      "_model_module_version": "1.5.0",
      "_model_name": "FloatProgressModel",
      "_view_count": null,
      "_view_module": "@jupyter-widgets/controls",
      "_view_module_version": "1.5.0",
      "_view_name": "ProgressView",
      "bar_style": "success",
      "description": "",
      "description_tooltip": null,
      "layout": "IPY_MODEL_2aaa9101df3c4fd6b2cedc82eaa74980",
      "max": 49999,
      "min": 0,
      "orientation": "horizontal",
      "style": "IPY_MODEL_390af6108e6e48aebe3a41baa3fa5f4c",
      "value": 49999
     }
    },
    "f20aaef2a9984fa2ab259071390eeb3f": {
     "model_module": "@jupyter-widgets/controls",
     "model_module_version": "1.5.0",
     "model_name": "DescriptionStyleModel",
     "state": {
      "_model_module": "@jupyter-widgets/controls",
      "_model_module_version": "1.5.0",
      "_model_name": "DescriptionStyleModel",
      "_view_count": null,
      "_view_module": "@jupyter-widgets/base",
      "_view_module_version": "1.2.0",
      "_view_name": "StyleView",
      "description_width": ""
     }
    },
    "ff6d4e9803d24f7399025f49b29dc037": {
     "model_module": "@jupyter-widgets/controls",
     "model_module_version": "1.5.0",
     "model_name": "FloatProgressModel",
     "state": {
      "_dom_classes": [],
      "_model_module": "@jupyter-widgets/controls",
      "_model_module_version": "1.5.0",
      "_model_name": "FloatProgressModel",
      "_view_count": null,
      "_view_module": "@jupyter-widgets/controls",
      "_view_module_version": "1.5.0",
      "_view_name": "ProgressView",
      "bar_style": "success",
      "description": "",
      "description_tooltip": null,
      "layout": "IPY_MODEL_44e0246909af4d5a9761f003af80995d",
      "max": 50499,
      "min": 0,
      "orientation": "horizontal",
      "style": "IPY_MODEL_63b232b9e1eb482dbab295aea50882e5",
      "value": 50499
     }
    },
    "ff9d3c92186e4306b64bbaab27feacc2": {
     "model_module": "@jupyter-widgets/base",
     "model_module_version": "1.2.0",
     "model_name": "LayoutModel",
     "state": {
      "_model_module": "@jupyter-widgets/base",
      "_model_module_version": "1.2.0",
      "_model_name": "LayoutModel",
      "_view_count": null,
      "_view_module": "@jupyter-widgets/base",
      "_view_module_version": "1.2.0",
      "_view_name": "LayoutView",
      "align_content": null,
      "align_items": null,
      "align_self": null,
      "border": null,
      "bottom": null,
      "display": null,
      "flex": null,
      "flex_flow": null,
      "grid_area": null,
      "grid_auto_columns": null,
      "grid_auto_flow": null,
      "grid_auto_rows": null,
      "grid_column": null,
      "grid_gap": null,
      "grid_row": null,
      "grid_template_areas": null,
      "grid_template_columns": null,
      "grid_template_rows": null,
      "height": null,
      "justify_content": null,
      "justify_items": null,
      "left": null,
      "margin": null,
      "max_height": null,
      "max_width": null,
      "min_height": null,
      "min_width": null,
      "object_fit": null,
      "object_position": null,
      "order": null,
      "overflow": null,
      "overflow_x": null,
      "overflow_y": null,
      "padding": null,
      "right": null,
      "top": null,
      "visibility": null,
      "width": null
     }
    }
   }
  }
 },
 "nbformat": 4,
 "nbformat_minor": 5
}
