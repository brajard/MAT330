{
  "cells": [
    {
      "cell_type": "markdown",
      "metadata": {
        "id": "bU1ieWAszphh"
      },
      "source": [
        "# Tutorial: Image classification"
      ]
    },
    {
      "cell_type": "markdown",
      "metadata": {
        "id": "rX8mhOLljYeM"
      },
      "source": [
        "##### Copyright 2019 The TensorFlow Authors.\n",
        "Notebook modified by Julien Brajard julien.brajard@nersc.no for MAT330 course"
      ]
    },
    {
      "cell_type": "code",
      "execution_count": 1,
      "metadata": {
        "id": "BZSlp3DAjdYf"
      },
      "outputs": [],
      "source": [
        "#@title Licensed under the Apache License, Version 2.0 (the \"License\");\n",
        "# you may not use this file except in compliance with the License.\n",
        "# You may obtain a copy of the License at\n",
        "#\n",
        "# https://www.apache.org/licenses/LICENSE-2.0\n",
        "#\n",
        "# Unless required by applicable law or agreed to in writing, software\n",
        "# distributed under the License is distributed on an \"AS IS\" BASIS,\n",
        "# WITHOUT WARRANTIES OR CONDITIONS OF ANY KIND, either express or implied.\n",
        "# See the License for the specific language governing permissions and\n",
        "# limitations under the License."
      ]
    },
    {
      "cell_type": "markdown",
      "metadata": {
        "id": "04QgGZc9bF5D"
      },
      "source": [
        "This short introduction of classication uses [Keras](https://www.tensorflow.org/guide/keras/overview) to:\n",
        "\n",
        "1. Load a prebuilt dataset.\n",
        "1. Build a neural network machine learning model that classifies images.\n",
        "2. Train this neural network.\n",
        "3. Evaluate the accuracy of the model."
      ]
    },
    {
      "cell_type": "markdown",
      "metadata": {
        "id": "hiH7AC-NTniF"
      },
      "source": [
        "This tutorial is a [Google Colaboratory](https://colab.research.google.com/notebooks/welcome.ipynb) notebook. Python programs are run directly in the browser—a great way to learn and use TensorFlow. To follow this tutorial, run the notebook in Google Colab by clicking the button at the top of this page.\n",
        "\n",
        "1. In Colab, connect to a Python runtime: At the top-right of the menu bar, select *CONNECT*.\n",
        "2. Run all the notebook code cells: Select *Runtime* > *Run all*."
      ]
    },
    {
      "cell_type": "markdown",
      "metadata": {
        "id": "nnrWf3PCEzXL"
      },
      "source": [
        "## Set up TensorFlow\n",
        "\n",
        "Import TensorFlow into your program to get started:"
      ]
    },
    {
      "cell_type": "code",
      "execution_count": 2,
      "metadata": {
        "id": "0trJmd6DjqBZ",
        "outputId": "d4f43c1e-7cbf-4dac-8a6f-d5e8878a7be8",
        "colab": {
          "base_uri": "https://localhost:8080/"
        }
      },
      "outputs": [
        {
          "output_type": "stream",
          "name": "stdout",
          "text": [
            "TensorFlow version: 2.9.2\n"
          ]
        }
      ],
      "source": [
        "import tensorflow as tf\n",
        "print(\"TensorFlow version:\", tf.__version__)"
      ]
    },
    {
      "cell_type": "markdown",
      "metadata": {
        "id": "6FVdRIlZzphl"
      },
      "source": [
        "Other useful imports"
      ]
    },
    {
      "cell_type": "code",
      "execution_count": 3,
      "metadata": {
        "id": "R_W9ebEkzphm"
      },
      "outputs": [],
      "source": [
        "import matplotlib.pyplot as plt\n",
        "import numpy as np"
      ]
    },
    {
      "cell_type": "markdown",
      "metadata": {
        "id": "7NAbSZiaoJ4z"
      },
      "source": [
        "If you are following along in your own development environment, rather than [Colab](https://colab.research.google.com/github/tensorflow/docs/blob/master/site/en/tutorials/quickstart/beginner.ipynb), see the [install guide](https://www.tensorflow.org/install) for setting up TensorFlow for development.\n",
        "\n",
        "Note: Make sure you have upgraded to the latest `pip` to install the TensorFlow 2 package if you are using your own development environment. See the [install guide](https://www.tensorflow.org/install) for details.\n",
        "\n",
        "## Load a dataset\n",
        "\n",
        "Load and prepare the [MNIST dataset](http://yann.lecun.com/exdb/mnist/). Convert the sample data from integers to floating-point numbers and split into training/test:"
      ]
    },
    {
      "cell_type": "code",
      "execution_count": 4,
      "metadata": {
        "id": "7FP5258xjs-v",
        "outputId": "996b24e3-fea3-4fe5-d4eb-4a6db19ad4e8",
        "colab": {
          "base_uri": "https://localhost:8080/"
        }
      },
      "outputs": [
        {
          "output_type": "stream",
          "name": "stdout",
          "text": [
            "Downloading data from https://storage.googleapis.com/tensorflow/tf-keras-datasets/mnist.npz\n",
            "11490434/11490434 [==============================] - 0s 0us/step\n",
            "Number of sample in the training set: 60000\n",
            "Number of sample in the testing set: 10000\n"
          ]
        }
      ],
      "source": [
        "mnist = tf.keras.datasets.mnist\n",
        "\n",
        "(x_train, y_train), (x_test, y_test) = mnist.load_data()\n",
        "x_train, x_test = x_train / 255.0, x_test / 255.0\n",
        "\n",
        "print(f'Number of sample in the training set: {y_train.size}')\n",
        "print(f'Number of sample in the testing set: {y_test.size}')"
      ]
    },
    {
      "cell_type": "markdown",
      "metadata": {
        "id": "6Nrxd8jzzphm"
      },
      "source": [
        "Plot examples of the training set and test set"
      ]
    },
    {
      "cell_type": "code",
      "execution_count": 5,
      "metadata": {
        "id": "tT_03YSSzphn"
      },
      "outputs": [],
      "source": [
        "ntrain = 5 #Number of samples to plot from the training dataset\n",
        "ntest = 5#Number of samples to plot from the testing dataset"
      ]
    },
    {
      "cell_type": "code",
      "execution_count": 6,
      "metadata": {
        "id": "W9OsZ3R6zphn",
        "outputId": "dc1dd011-a7b6-44bf-a5b9-5707cf93c06a",
        "colab": {
          "base_uri": "https://localhost:8080/",
          "height": 185
        }
      },
      "outputs": [
        {
          "output_type": "display_data",
          "data": {
            "text/plain": [
              "<Figure size 1800x360 with 5 Axes>"
            ],
            "image/png": "[encoded data removed]"
          },
          "metadata": {
            "needs_background": "light"
          }
        }
      ],
      "source": [
        "fig, ax = plt.subplots(ncols=ntrain, figsize=(ntrain*5,5))\n",
        "for i,a in enumerate(ax):\n",
        "    a.imshow(x_train[i], cmap='gray')\n",
        "    a.axis('off')\n",
        "    a.set_title(f'True label:{y_train[i]}',fontsize=20)\n",
        "fig.suptitle('Samples from the training set',fontsize=20);"
      ]
    },
    {
      "cell_type": "code",
      "execution_count": 7,
      "metadata": {
        "id": "BOpMNwy4zphn",
        "outputId": "1dccb5b8-d0ca-47a5-9f67-077ede7efe6d",
        "colab": {
          "base_uri": "https://localhost:8080/",
          "height": 185
        }
      },
      "outputs": [
        {
          "output_type": "display_data",
          "data": {
            "text/plain": [
              "<Figure size 1800x360 with 5 Axes>"
            ],
            "image/png": "[encoded data removed]"
          },
          "metadata": {
            "needs_background": "light"
          }
        }
      ],
      "source": [
        "fig, ax = plt.subplots(ncols=ntest, figsize=(ntrain*5,5))\n",
        "for i,a in enumerate(ax):\n",
        "    a.imshow(x_test[i], cmap='gray')\n",
        "    a.axis('off')\n",
        "    a.set_title(f'True label:{y_test[i]}',fontsize=20)\n",
        "fig.suptitle('Samples from the test set',fontsize=20);"
      ]
    },
    {
      "cell_type": "markdown",
      "metadata": {
        "id": "02khSxJzzphn"
      },
      "source": [
        "## One hot encoding\n",
        "encode the outputs as a 10-dimensional vector"
      ]
    },
    {
      "cell_type": "code",
      "execution_count": 8,
      "metadata": {
        "id": "XbZEAAw9zphn"
      },
      "outputs": [],
      "source": [
        "y_train_onehot = tf.one_hot(y_train,10)\n",
        "y_test_onehot = tf.one_hot(y_test,10)"
      ]
    },
    {
      "cell_type": "code",
      "execution_count": 9,
      "metadata": {
        "id": "cjlbuWpdzphn",
        "outputId": "90dfba45-fe02-47f1-bc77-1e541e210344",
        "colab": {
          "base_uri": "https://localhost:8080/"
        }
      },
      "outputs": [
        {
          "output_type": "stream",
          "name": "stdout",
          "text": [
            "Label of the first sample: 5\n",
            "Encoding of the first sample's label: [0. 0. 0. 0. 0. 1. 0. 0. 0. 0.]\n"
          ]
        }
      ],
      "source": [
        "# An example\n",
        "print(f'Label of the first sample: {y_train[0]}')\n",
        "print(f\"Encoding of the first sample's label: {y_train_onehot[0]}\")"
      ]
    },
    {
      "cell_type": "markdown",
      "metadata": {
        "id": "BPZ68wASog_I"
      },
      "source": [
        "## Build a machine learning model\n",
        "\n",
        "Build a `tf.keras.Sequential` model by stacking layers. Here no convolutionnal layers are used."
      ]
    },
    {
      "cell_type": "code",
      "execution_count": 10,
      "metadata": {
        "id": "h3IKyzTCDNGo"
      },
      "outputs": [],
      "source": [
        "model = tf.keras.models.Sequential([\n",
        "    tf.keras.layers.Flatten(input_shape=(28, 28)),\n",
        "    tf.keras.layers.Dense(128, activation='relu'),\n",
        "    tf.keras.layers.Dense(10, activation='softmax')\n",
        "])\n",
        "\n",
        "\n",
        "#Not used for the moment\n",
        "model_cnn = tf.keras.models.Sequential([\n",
        "    tf.keras.layers.Reshape((28,28,1), input_shape=(28,28)),\n",
        "    tf.keras.layers.Conv2D(32,5, activation='relu'),\n",
        "    tf.keras.layers.Conv2D(32,5, activation='relu'),\n",
        "    tf.keras.layers.MaxPool2D(),\n",
        "    tf.keras.layers.Flatten(),\n",
        "    tf.keras.layers.Dense(32, activation='relu', kernel_regularizer=tf.keras.regularizers.l2(0.0001)),\n",
        "    tf.keras.layers.Dense(10, activation='softmax')\n",
        "])\n",
        "\n",
        "#Try to add some features:\n",
        "\n",
        "#L2 regularization, ex: tf.keras.layers.Dense(16, activation='relu', kernel_regularizer=tf.keras.regularizers.l2(0.0001))\n",
        "\n",
        "#Dropout, ex: tf.keras.layers.Dropout(0.2)\n",
        "\n",
        "#Batchnorm, ex: tf.keras.layers.BatchNormalization()\n"
      ]
    },
    {
      "cell_type": "markdown",
      "metadata": {
        "id": "l2hiez2eIUz8"
      },
      "source": [
        "For each example, the model returns a vector of *probabilities* for each class"
      ]
    },
    {
      "cell_type": "code",
      "execution_count": 11,
      "metadata": {
        "id": "HzTI2I0zzpho",
        "outputId": "9848a011-5bf6-4323-b65d-1aa4baff825a",
        "colab": {
          "base_uri": "https://localhost:8080/"
        }
      },
      "outputs": [
        {
          "output_type": "stream",
          "name": "stdout",
          "text": [
            "Model: \"sequential\"\n",
            "_________________________________________________________________\n",
            " Layer (type)                Output Shape              Param #   \n",
            "=================================================================\n",
            " flatten (Flatten)           (None, 784)               0         \n",
            "                                                                 \n",
            " dense (Dense)               (None, 128)               100480    \n",
            "                                                                 \n",
            " dense_1 (Dense)             (None, 10)                1290      \n",
            "                                                                 \n",
            "=================================================================\n",
            "Total params: 101,770\n",
            "Trainable params: 101,770\n",
            "Non-trainable params: 0\n",
            "_________________________________________________________________\n"
          ]
        }
      ],
      "source": [
        "model.summary()"
      ]
    },
    {
      "cell_type": "code",
      "source": [],
      "metadata": {
        "id": "O2Z8KQM91YLf"
      },
      "execution_count": null,
      "outputs": []
    },
    {
      "cell_type": "markdown",
      "source": [
        "Before training, let's have a look at the value returned by the neural net for the first image of the training:"
      ],
      "metadata": {
        "id": "Q-fD5_vi1ZUi"
      }
    },
    {
      "cell_type": "code",
      "source": [
        "# Plot the first value\n",
        "fig, ax = plt.subplots(figsize=(5,5))\n",
        "ax.imshow(x_train[0], cmap='gray')\n",
        "ax.axis('off')\n",
        "ax.set_title(f'True label:{y_train[0]}',fontsize=20);"
      ],
      "metadata": {
        "id": "6s57GM_B1gU3",
        "outputId": "9a4d6eb9-b45d-4bcf-aadf-8e42796f1597",
        "colab": {
          "base_uri": "https://localhost:8080/",
          "height": 324
        }
      },
      "execution_count": 25,
      "outputs": [
        {
          "output_type": "display_data",
          "data": {
            "text/plain": [
              "<Figure size 360x360 with 1 Axes>"
            ],
            "image/png": "[encoded data removed]"
          },
          "metadata": {
            "needs_background": "light"
          }
        }
      ]
    },
    {
      "cell_type": "code",
      "execution_count": 26,
      "metadata": {
        "id": "OeOrNdnkEEcR",
        "outputId": "450e4378-06a2-4f05-bf97-85d4d5278cda",
        "colab": {
          "base_uri": "https://localhost:8080/"
        }
      },
      "outputs": [
        {
          "output_type": "execute_result",
          "data": {
            "text/plain": [
              "array([[1.5583947e-11, 5.3188592e-10, 4.4016262e-09, 1.4373865e-04,\n",
              "        4.0368378e-18, 9.9985623e-01, 1.9980445e-14, 2.8446692e-09,\n",
              "        4.6677935e-12, 1.0155835e-09]], dtype=float32)"
            ]
          },
          "metadata": {},
          "execution_count": 26
        }
      ],
      "source": [
        "#Prediction for the first image of the training\n",
        "predictions = model(x_train[:1]).numpy()\n",
        "predictions"
      ]
    },
    {
      "cell_type": "code",
      "execution_count": 13,
      "metadata": {
        "id": "RSkzdv8MD0tT"
      },
      "outputs": [],
      "source": [
        "loss_fn = tf.keras.losses.CategoricalCrossentropy()"
      ]
    },
    {
      "cell_type": "markdown",
      "metadata": {
        "id": "SfR4MsSDU880"
      },
      "source": [
        "This loss is equal to the negative log probability of the true class: The loss is zero if the model is sure of the correct class.\n",
        "\n",
        "This untrained model gives probabilities close to random (1/10 for each class), so the initial loss should be close to `-tf.math.log(1/10) ~= 2.3`."
      ]
    },
    {
      "cell_type": "code",
      "execution_count": 14,
      "metadata": {
        "id": "NJWqEVrrJ7ZB",
        "outputId": "edb55fa7-57ab-4cbf-d131-6da925cc71e3",
        "colab": {
          "base_uri": "https://localhost:8080/"
        }
      },
      "outputs": [
        {
          "output_type": "execute_result",
          "data": {
            "text/plain": [
              "2.2230034"
            ]
          },
          "metadata": {},
          "execution_count": 14
        }
      ],
      "source": [
        "loss_fn(y_train_onehot[:1], predictions).numpy()"
      ]
    },
    {
      "cell_type": "markdown",
      "metadata": {
        "id": "ada44eb947d4"
      },
      "source": [
        "Before you start training, configure and compile the model using Keras `Model.compile`. Set the [`optimizer`](https://www.tensorflow.org/api_docs/python/tf/keras/optimizers) class to `adam`, set the `loss` to the `loss_fn` function you defined earlier, and specify a metric to be evaluated for the model by setting the `metrics` parameter to `accuracy`."
      ]
    },
    {
      "cell_type": "code",
      "execution_count": 15,
      "metadata": {
        "id": "9foNKHzTD2Vo"
      },
      "outputs": [],
      "source": [
        "model.compile(optimizer='adam',\n",
        "              loss=loss_fn,\n",
        "              metrics=['accuracy'])"
      ]
    },
    {
      "cell_type": "markdown",
      "metadata": {
        "id": "ix4mEL65on-w"
      },
      "source": [
        "## Train and evaluate your model\n",
        "\n",
        "Use the `Model.fit` method to adjust your model parameters and minimize the loss: "
      ]
    },
    {
      "cell_type": "code",
      "execution_count": 16,
      "metadata": {
        "id": "y7suUbJXVLqP",
        "outputId": "7e2d7159-4469-4e2f-9f46-86456a865867",
        "colab": {
          "base_uri": "https://localhost:8080/"
        }
      },
      "outputs": [
        {
          "output_type": "stream",
          "name": "stdout",
          "text": [
            "Epoch 1/5\n",
            "1875/1875 [==============================] - 7s 3ms/step - loss: 0.2540 - accuracy: 0.9278 - val_loss: 0.1465 - val_accuracy: 0.9557\n",
            "Epoch 2/5\n",
            "1875/1875 [==============================] - 5s 3ms/step - loss: 0.1113 - accuracy: 0.9676 - val_loss: 0.1036 - val_accuracy: 0.9687\n",
            "Epoch 3/5\n",
            "1875/1875 [==============================] - 5s 3ms/step - loss: 0.0764 - accuracy: 0.9774 - val_loss: 0.0887 - val_accuracy: 0.9730\n",
            "Epoch 4/5\n",
            "1875/1875 [==============================] - 6s 3ms/step - loss: 0.0575 - accuracy: 0.9819 - val_loss: 0.0771 - val_accuracy: 0.9769\n",
            "Epoch 5/5\n",
            "1875/1875 [==============================] - 9s 5ms/step - loss: 0.0442 - accuracy: 0.9868 - val_loss: 0.0833 - val_accuracy: 0.9744\n"
          ]
        }
      ],
      "source": [
        "history = model.fit(x_train, y_train_onehot, epochs=5, batch_size=32, validation_data=(x_test, y_test_onehot))"
      ]
    },
    {
      "cell_type": "markdown",
      "metadata": {
        "id": "CNFrXx1kzphp"
      },
      "source": [
        "We can plot the cost fuction optimisation as the function of the epoch"
      ]
    },
    {
      "cell_type": "code",
      "execution_count": 17,
      "metadata": {
        "id": "1QoeXzePzphp",
        "outputId": "53e9173a-a263-4bc9-a64c-3b22a3b94292",
        "colab": {
          "base_uri": "https://localhost:8080/",
          "height": 279
        }
      },
      "outputs": [
        {
          "output_type": "display_data",
          "data": {
            "text/plain": [
              "<Figure size 432x288 with 1 Axes>"
            ],
            "image/png": "[encoded data removed]"
          },
          "metadata": {
            "needs_background": "light"
          }
        }
      ],
      "source": [
        "plt.plot(history.epoch,history.history['loss'], '-k', label='Train')\n",
        "plt.plot(history.epoch,history.history['val_loss'], ':k', label='Test')\n",
        "plt.legend()\n",
        "plt.ylabel('Cross entropy loss')\n",
        "plt.xlabel('Epoch');\n"
      ]
    },
    {
      "cell_type": "markdown",
      "metadata": {
        "id": "4mDAAPFqVVgn"
      },
      "source": [
        "The `Model.evaluate` method checks the models performance, usually on a \"[Validation-set](https://developers.google.com/machine-learning/glossary#validation-set)\" or \"[Test-set](https://developers.google.com/machine-learning/glossary#test-set)\"."
      ]
    },
    {
      "cell_type": "code",
      "execution_count": 18,
      "metadata": {
        "id": "F7dTAzgHDUh7",
        "outputId": "d9a9300f-32e4-4164-9a8e-12a1efcb81d0",
        "colab": {
          "base_uri": "https://localhost:8080/"
        }
      },
      "outputs": [
        {
          "output_type": "stream",
          "name": "stdout",
          "text": [
            "313/313 - 1s - loss: 0.0833 - accuracy: 0.9744 - 606ms/epoch - 2ms/step\n"
          ]
        },
        {
          "output_type": "execute_result",
          "data": {
            "text/plain": [
              "[0.08325938135385513, 0.974399983882904]"
            ]
          },
          "metadata": {},
          "execution_count": 18
        }
      ],
      "source": [
        "model.evaluate(x_test,  y_test_onehot, verbose=2)"
      ]
    },
    {
      "cell_type": "markdown",
      "metadata": {
        "id": "T4JfEh7kvx6m"
      },
      "source": [
        "The image classifier is now trained to ~98% accuracy on this dataset."
      ]
    },
    {
      "cell_type": "markdown",
      "metadata": {
        "id": "cnqOZtUp1YR_"
      },
      "source": [
        "Now, let's predict the label of the test dataset"
      ]
    },
    {
      "cell_type": "code",
      "execution_count": 19,
      "metadata": {
        "id": "1f1V4R-Dzphp",
        "outputId": "187556a1-ddc5-4551-9984-f6009352a008",
        "colab": {
          "base_uri": "https://localhost:8080/"
        }
      },
      "outputs": [
        {
          "output_type": "stream",
          "name": "stdout",
          "text": [
            "313/313 [==============================] - 1s 1ms/step\n"
          ]
        },
        {
          "output_type": "execute_result",
          "data": {
            "text/plain": [
              "array([[2.2884423e-07, 2.0594234e-08, 5.7560446e-06, 9.3657715e-04,\n",
              "        4.7433207e-10, 6.4401252e-07, 7.9669523e-13, 9.9905330e-01,\n",
              "        8.7428555e-07, 2.7356587e-06]], dtype=float32)"
            ]
          },
          "metadata": {},
          "execution_count": 19
        }
      ],
      "source": [
        "ytest_prediction = model.predict(x_test)\n",
        "ytest_prediction[:1]"
      ]
    },
    {
      "cell_type": "markdown",
      "metadata": {
        "id": "757slwvzzphp"
      },
      "source": [
        "Each prediction gives a vector of probability, the predicted label corresponds to the highest probability"
      ]
    },
    {
      "cell_type": "code",
      "execution_count": 20,
      "metadata": {
        "id": "-v8r_iNzzphp"
      },
      "outputs": [],
      "source": [
        "ytest_prediction_label = np.argmax(ytest_prediction,axis=1)"
      ]
    },
    {
      "cell_type": "markdown",
      "metadata": {
        "id": "iDuIIrMSzphp"
      },
      "source": [
        "Now, let's have a look at the predictions of the test dataset"
      ]
    },
    {
      "cell_type": "code",
      "execution_count": 21,
      "metadata": {
        "id": "VsSM7ICMzphp",
        "outputId": "245d5a9f-c497-4bfd-9a55-aa40e2a27679",
        "colab": {
          "base_uri": "https://localhost:8080/",
          "height": 394
        }
      },
      "outputs": [
        {
          "output_type": "display_data",
          "data": {
            "text/plain": [
              "<Figure size 1800x792 with 10 Axes>"
            ],
            "image/png": "[encoded data removed]"
          },
          "metadata": {
            "needs_background": "light"
          }
        }
      ],
      "source": [
        "fig, ax = plt.subplots(ncols=ntest, nrows=2, figsize=(ntrain*5,11), sharey='row')\n",
        "for i,a in enumerate(ax.T):\n",
        "    a[0].imshow(x_test[i], cmap='gray')\n",
        "    a[0].axis('off')\n",
        "    a[0].set_title(f'True label:{y_test[i]}',fontsize=20)\n",
        "    a[1].bar(np.arange(10),ytest_prediction[i])\n",
        "    a[1].set_title(f'Predicted label:{ytest_prediction_label[i]}', fontsize=20)\n",
        "    a[1].set_ylabel('Predicted probability',fontsize=20)\n",
        "fig.suptitle('Samples from the test set',fontsize=20);"
      ]
    },
    {
      "cell_type": "markdown",
      "metadata": {
        "id": "DQ58jo_qzphp"
      },
      "source": [
        "Now let's have a look at challenging predictions"
      ]
    },
    {
      "cell_type": "code",
      "execution_count": 22,
      "metadata": {
        "id": "tRPiV6-xzphp"
      },
      "outputs": [],
      "source": [
        "#wrong = ytest_prediction_label != y_test\n",
        "challenging = [115, 149, 151, 247, 259, 321, 340, 381, 445]"
      ]
    },
    {
      "cell_type": "code",
      "execution_count": 23,
      "metadata": {
        "id": "NsGRdM5Bzphp",
        "outputId": "2ecd5676-da17-4de5-8c32-9e883f77cf8e",
        "colab": {
          "base_uri": "https://localhost:8080/",
          "height": 354
        }
      },
      "outputs": [
        {
          "output_type": "display_data",
          "data": {
            "text/plain": [
              "<Figure size 1800x792 with 10 Axes>"
            ],
            "image/png": "[encoded data removed]"
          },
          "metadata": {
            "needs_background": "light"
          }
        }
      ],
      "source": [
        "fig, ax = plt.subplots(ncols=ntest, nrows=2, figsize=(ntrain*5,11), sharey='row')\n",
        "\n",
        "for i,a in enumerate(ax.T):\n",
        "    a[0].imshow(x_test[challenging][i], cmap='gray')\n",
        "    a[0].axis('off')\n",
        "    a[0].set_title(f'True label:{y_test[challenging][i]}',fontsize=20)\n",
        "    a[1].bar(np.arange(10),ytest_prediction[challenging][i])\n",
        "    a[1].set_title(f'Predicted label:{ytest_prediction_label[challenging][i]}', fontsize=20)\n",
        "    a[1].set_ylabel('Predicted probability',fontsize=20)"
      ]
    },
    {
      "cell_type": "code",
      "execution_count": 23,
      "metadata": {
        "id": "AI-Om0dVzphp"
      },
      "outputs": [],
      "source": []
    }
  ],
  "metadata": {
    "colab": {
      "collapsed_sections": [
        "rX8mhOLljYeM"
      ],
      "name": "classification.ipynb",
      "toc_visible": true,
      "provenance": []
    },
    "kernelspec": {
      "display_name": "Python 3",
      "language": "python",
      "name": "python3"
    },
    "language_info": {
      "codemirror_mode": {
        "name": "ipython",
        "version": 3
      },
      "file_extension": ".py",
      "mimetype": "text/x-python",
      "name": "python",
      "nbconvert_exporter": "python",
      "pygments_lexer": "ipython3",
      "version": "3.7.10"
    },
    "accelerator": "GPU"
  },
  "nbformat": 4,
  "nbformat_minor": 0
}