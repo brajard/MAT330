{
 "cells": [
  {
   "cell_type": "code",
   "execution_count": 1,
   "metadata": {},
   "outputs": [],
   "source": [
    "from sklearn.datasets import fetch_california_housing\n",
    "import numpy as np\n",
    "import matplotlib.pyplot as plt\n",
    "from time import time\n",
    "from scipy.stats import randint as sp_randint\n",
    "\n"
   ]
  },
  {
   "cell_type": "code",
   "execution_count": 7,
   "metadata": {},
   "outputs": [],
   "source": [
    "\n",
    "# Utility function to report best scores\n",
    "def report(results, n_top=3):\n",
    "    for i in range(1, n_top + 1):\n",
    "        candidates = np.flatnonzero(results['rank_test_score'] == i)\n",
    "        for candidate in candidates:\n",
    "            print(\"Model with rank: {0}\".format(i))\n",
    "            print(\"Mean validation score: {0:.3f} (std: {1:.3f})\".format(\n",
    "                  results['mean_test_score'][candidate],\n",
    "                  results['std_test_score'][candidate]))\n",
    "            print(\"Parameters: {0}\".format(results['params'][candidate]))\n",
    "            print(\"\")\n",
    "\n"
   ]
  },
  {
   "cell_type": "code",
   "execution_count": 8,
   "metadata": {},
   "outputs": [
    {
     "name": "stdout",
     "output_type": "stream",
     "text": [
      ".. _california_housing_dataset:\n",
      "\n",
      "California Housing dataset\n",
      "--------------------------\n",
      "\n",
      "**Data Set Characteristics:**\n",
      "\n",
      "    :Number of Instances: 20640\n",
      "\n",
      "    :Number of Attributes: 8 numeric, predictive attributes and the target\n",
      "\n",
      "    :Attribute Information:\n",
      "        - MedInc        median income in block group\n",
      "        - HouseAge      median house age in block group\n",
      "        - AveRooms      average number of rooms per household\n",
      "        - AveBedrms     average number of bedrooms per household\n",
      "        - Population    block group population\n",
      "        - AveOccup      average number of household members\n",
      "        - Latitude      block group latitude\n",
      "        - Longitude     block group longitude\n",
      "\n",
      "    :Missing Attribute Values: None\n",
      "\n",
      "This dataset was obtained from the StatLib repository.\n",
      "https://www.dcc.fc.up.pt/~ltorgo/Regression/cal_housing.html\n",
      "\n",
      "The target variable is the median house value for California districts,\n",
      "expressed in hundreds of thousands of dollars ($100,000).\n",
      "\n",
      "This dataset was derived from the 1990 U.S. census, using one row per census\n",
      "block group. A block group is the smallest geographical unit for which the U.S.\n",
      "Census Bureau publishes sample data (a block group typically has a population\n",
      "of 600 to 3,000 people).\n",
      "\n",
      "An household is a group of people residing within a home. Since the average\n",
      "number of rooms and bedrooms in this dataset are provided per household, these\n",
      "columns may take surpinsingly large values for block groups with few households\n",
      "and many empty houses, such as vacation resorts.\n",
      "\n",
      "It can be downloaded/loaded using the\n",
      ":func:`sklearn.datasets.fetch_california_housing` function.\n",
      "\n",
      ".. topic:: References\n",
      "\n",
      "    - Pace, R. Kelley and Ronald Barry, Sparse Spatial Autoregressions,\n",
      "      Statistics and Probability Letters, 33 (1997) 291-297\n",
      "\n"
     ]
    }
   ],
   "source": [
    "housing = fetch_california_housing()\n",
    "X = housing.data\n",
    "y = housing.target\n",
    "print(housing.DESCR)\n"
   ]
  },
  {
   "cell_type": "markdown",
   "metadata": {},
   "source": []
  },
  {
   "cell_type": "code",
   "execution_count": 10,
   "metadata": {},
   "outputs": [
    {
     "name": "stdout",
     "output_type": "stream",
     "text": [
      "score: mean=0.65 ; std=0.084\n"
     ]
    }
   ],
   "source": [
    "from sklearn.ensemble import RandomForestRegressor\n",
    "from sklearn.model_selection import cross_val_score\n",
    "\n",
    "rf = RandomForestRegressor(n_estimators=100, \n",
    "                           max_features=10, \n",
    "                           min_samples_split=2,\n",
    "                           random_state=10)\n",
    "score = cross_val_score(rf,X,y,cv = 5) #WARNING: THE SCORE HERE IS THE COEF OF DETERMINATION (GREATER IS BETTER)\n",
    "print('score: mean={:.2f} ; std={:.3f}'\\\n",
    "      .format(score.mean(),score.std()))\n",
    "    "
   ]
  },
  {
   "cell_type": "code",
   "execution_count": 12,
   "metadata": {},
   "outputs": [
    {
     "name": "stdout",
     "output_type": "stream",
     "text": [
      "Fitting 5 folds for each of 36 candidates, totalling 180 fits\n"
     ]
    },
    {
     "name": "stderr",
     "output_type": "stream",
     "text": [
      "/Users/julaja/miniconda3/lib/python3.9/site-packages/joblib/externals/loky/process_executor.py:700: UserWarning: A worker stopped while some jobs were given to the executor. This can be caused by a too short worker timeout or by a memory leak.\n",
      "  warnings.warn(\n"
     ]
    },
    {
     "name": "stdout",
     "output_type": "stream",
     "text": [
      "GridSearch finished\n"
     ]
    }
   ],
   "source": [
    "from sklearn.model_selection import GridSearchCV\n",
    "\n",
    "param_grid = {\n",
    "    'n_estimators' : [100,400,700,1000],\n",
    "    'max_features' : [1,8,13],\n",
    "    'min_samples_split' : [2,5,10]\n",
    "}\n",
    "clf = GridSearchCV(rf, param_grid, cv=5, verbose=1,n_jobs=4)\n",
    "\n",
    "clf.fit(X,y)\n",
    "print('GridSearch finished')"
   ]
  },
  {
   "cell_type": "code",
   "execution_count": 14,
   "metadata": {},
   "outputs": [
    {
     "name": "stdout",
     "output_type": "stream",
     "text": [
      "0.600 (+/-0.149) for {'max_features': 1, 'min_samples_split': 2, 'n_estimators': 100}\n",
      "0.607 (+/-0.146) for {'max_features': 1, 'min_samples_split': 2, 'n_estimators': 400}\n",
      "0.609 (+/-0.142) for {'max_features': 1, 'min_samples_split': 2, 'n_estimators': 700}\n",
      "0.609 (+/-0.143) for {'max_features': 1, 'min_samples_split': 2, 'n_estimators': 1000}\n",
      "0.602 (+/-0.144) for {'max_features': 1, 'min_samples_split': 5, 'n_estimators': 100}\n",
      "0.603 (+/-0.147) for {'max_features': 1, 'min_samples_split': 5, 'n_estimators': 400}\n",
      "0.605 (+/-0.144) for {'max_features': 1, 'min_samples_split': 5, 'n_estimators': 700}\n",
      "0.607 (+/-0.143) for {'max_features': 1, 'min_samples_split': 5, 'n_estimators': 1000}\n",
      "0.597 (+/-0.140) for {'max_features': 1, 'min_samples_split': 10, 'n_estimators': 100}\n",
      "0.601 (+/-0.142) for {'max_features': 1, 'min_samples_split': 10, 'n_estimators': 400}\n",
      "0.602 (+/-0.141) for {'max_features': 1, 'min_samples_split': 10, 'n_estimators': 700}\n",
      "0.602 (+/-0.140) for {'max_features': 1, 'min_samples_split': 10, 'n_estimators': 1000}\n",
      "0.651 (+/-0.168) for {'max_features': 8, 'min_samples_split': 2, 'n_estimators': 100}\n",
      "0.652 (+/-0.164) for {'max_features': 8, 'min_samples_split': 2, 'n_estimators': 400}\n",
      "0.653 (+/-0.162) for {'max_features': 8, 'min_samples_split': 2, 'n_estimators': 700}\n",
      "0.654 (+/-0.161) for {'max_features': 8, 'min_samples_split': 2, 'n_estimators': 1000}\n",
      "0.651 (+/-0.167) for {'max_features': 8, 'min_samples_split': 5, 'n_estimators': 100}\n",
      "0.652 (+/-0.162) for {'max_features': 8, 'min_samples_split': 5, 'n_estimators': 400}\n",
      "0.653 (+/-0.161) for {'max_features': 8, 'min_samples_split': 5, 'n_estimators': 700}\n",
      "0.654 (+/-0.160) for {'max_features': 8, 'min_samples_split': 5, 'n_estimators': 1000}\n",
      "0.651 (+/-0.166) for {'max_features': 8, 'min_samples_split': 10, 'n_estimators': 100}\n",
      "0.652 (+/-0.160) for {'max_features': 8, 'min_samples_split': 10, 'n_estimators': 400}\n",
      "0.653 (+/-0.159) for {'max_features': 8, 'min_samples_split': 10, 'n_estimators': 700}\n",
      "0.654 (+/-0.158) for {'max_features': 8, 'min_samples_split': 10, 'n_estimators': 1000}\n",
      "0.651 (+/-0.168) for {'max_features': 13, 'min_samples_split': 2, 'n_estimators': 100}\n",
      "0.652 (+/-0.164) for {'max_features': 13, 'min_samples_split': 2, 'n_estimators': 400}\n",
      "0.653 (+/-0.162) for {'max_features': 13, 'min_samples_split': 2, 'n_estimators': 700}\n",
      "0.654 (+/-0.161) for {'max_features': 13, 'min_samples_split': 2, 'n_estimators': 1000}\n",
      "0.651 (+/-0.167) for {'max_features': 13, 'min_samples_split': 5, 'n_estimators': 100}\n",
      "0.652 (+/-0.162) for {'max_features': 13, 'min_samples_split': 5, 'n_estimators': 400}\n",
      "0.653 (+/-0.161) for {'max_features': 13, 'min_samples_split': 5, 'n_estimators': 700}\n",
      "0.654 (+/-0.160) for {'max_features': 13, 'min_samples_split': 5, 'n_estimators': 1000}\n",
      "0.651 (+/-0.166) for {'max_features': 13, 'min_samples_split': 10, 'n_estimators': 100}\n",
      "0.652 (+/-0.160) for {'max_features': 13, 'min_samples_split': 10, 'n_estimators': 400}\n",
      "0.653 (+/-0.159) for {'max_features': 13, 'min_samples_split': 10, 'n_estimators': 700}\n",
      "0.654 (+/-0.158) for {'max_features': 13, 'min_samples_split': 10, 'n_estimators': 1000}\n"
     ]
    }
   ],
   "source": [
    "    means = clf.cv_results_['mean_test_score']\n",
    "    stds = clf.cv_results_['std_test_score']\n",
    "    for mean, std, params in zip(means, stds, clf.cv_results_['params']):\n",
    "        print(\"%0.3f (+/-%0.03f) for %r\"\n",
    "              % (mean, std * 2, params))\n"
   ]
  },
  {
   "cell_type": "code",
   "execution_count": 15,
   "metadata": {},
   "outputs": [
    {
     "data": {
      "image/png": "[encoded data removed]",
      "text/plain": [
       "<Figure size 640x480 with 1 Axes>"
      ]
     },
     "metadata": {},
     "output_type": "display_data"
    }
   ],
   "source": [
    "plt.bar(range(len(means)),means)\n",
    "plt.ylim(.3,.7)\n",
    "plt.show()"
   ]
  },
  {
   "cell_type": "code",
   "execution_count": 16,
   "metadata": {},
   "outputs": [
    {
     "name": "stdout",
     "output_type": "stream",
     "text": [
      "Model with rank: 1\n",
      "Mean validation score: 0.654 (std: 0.080)\n",
      "Parameters: {'max_features': 8, 'min_samples_split': 5, 'n_estimators': 1000}\n",
      "\n",
      "Model with rank: 1\n",
      "Mean validation score: 0.654 (std: 0.080)\n",
      "Parameters: {'max_features': 13, 'min_samples_split': 5, 'n_estimators': 1000}\n",
      "\n",
      "Model with rank: 3\n",
      "Mean validation score: 0.654 (std: 0.079)\n",
      "Parameters: {'max_features': 8, 'min_samples_split': 10, 'n_estimators': 1000}\n",
      "\n",
      "Model with rank: 3\n",
      "Mean validation score: 0.654 (std: 0.079)\n",
      "Parameters: {'max_features': 13, 'min_samples_split': 10, 'n_estimators': 1000}\n",
      "\n"
     ]
    }
   ],
   "source": [
    "report(clf.cv_results_)"
   ]
  },
  {
   "cell_type": "code",
   "execution_count": 17,
   "metadata": {},
   "outputs": [
    {
     "name": "stdout",
     "output_type": "stream",
     "text": [
      "Fitting 5 folds for each of 15 candidates, totalling 75 fits\n"
     ]
    },
    {
     "name": "stderr",
     "output_type": "stream",
     "text": [
      "/Users/julaja/miniconda3/lib/python3.9/site-packages/joblib/externals/loky/process_executor.py:700: UserWarning: A worker stopped while some jobs were given to the executor. This can be caused by a too short worker timeout or by a memory leak.\n",
      "  warnings.warn(\n"
     ]
    },
    {
     "name": "stdout",
     "output_type": "stream",
     "text": [
      "Random finished\n"
     ]
    }
   ],
   "source": [
    "from sklearn.model_selection import RandomizedSearchCV\n",
    "param_dist = {\n",
    "    'n_estimators' : [100,400,700,1000],\n",
    "    'max_features' : sp_randint(1,13),\n",
    "    'min_samples_split' : sp_randint(2,10)\n",
    "}\n",
    "clf = RandomizedSearchCV(rf, param_dist, cv=5, n_iter=15, \n",
    "                         verbose=1,n_jobs=4, random_state=1)\n",
    "\n",
    "clf.fit(X,y)\n",
    "print('Random finished')\n"
   ]
  },
  {
   "cell_type": "code",
   "execution_count": 18,
   "metadata": {},
   "outputs": [
    {
     "name": "stdout",
     "output_type": "stream",
     "text": [
      "Model with rank: 1\n",
      "Mean validation score: 0.658 (std: 0.074)\n",
      "Parameters: {'max_features': 7, 'min_samples_split': 3, 'n_estimators': 700}\n",
      "\n",
      "Model with rank: 2\n",
      "Mean validation score: 0.657 (std: 0.075)\n",
      "Parameters: {'max_features': 7, 'min_samples_split': 3, 'n_estimators': 400}\n",
      "\n",
      "Model with rank: 3\n",
      "Mean validation score: 0.657 (std: 0.076)\n",
      "Parameters: {'max_features': 5, 'min_samples_split': 8, 'n_estimators': 400}\n",
      "\n"
     ]
    }
   ],
   "source": [
    "report(clf.cv_results_)"
   ]
  },
  {
   "cell_type": "code",
   "execution_count": 33,
   "metadata": {},
   "outputs": [],
   "source": [
    "from hyperopt import tpe, hp, fmin, space_eval\n",
    "\n",
    "#Define the objective function to minimize\n",
    "def objective(params):\n",
    "    n_estimators, max_features, min_samples_split = params['n_estimators'], params['max_features'], params['min_samples_split']\n",
    "    rf = RandomForestRegressor(n_estimators=n_estimators, \n",
    "                           max_features=max_features, \n",
    "                           min_samples_split=min_samples_split,\n",
    "                           random_state=10)\n",
    "    score = cross_val_score(rf,X,y,cv = 5)\n",
    "\n",
    "    return -score.mean()"
   ]
  },
  {
   "cell_type": "code",
   "execution_count": 31,
   "metadata": {},
   "outputs": [],
   "source": [
    "space = {\n",
    "    'n_estimators': hp.choice('n_estimators',[100,400,700,1000]),\n",
    "    'max_features': hp.randint('max_features',1,13),\n",
    "    'min_samples_split' : hp.randint('min_samples_split',2,10)\n",
    "}"
   ]
  },
  {
   "cell_type": "code",
   "execution_count": 45,
   "metadata": {},
   "outputs": [
    {
     "name": "stdout",
     "output_type": "stream",
     "text": [
      "100%|██████████| 10/10 [00:45<00:00,  4.57s/trial, best loss: -0.670093703896406]\n",
      "{'max_features': 8, 'min_samples_split': 3, 'n_estimators': 1000}\n"
     ]
    }
   ],
   "source": [
    "best = fmin(\n",
    "    fn=objective, # Objective Function to optimize\n",
    "    space=space, # Hyperparameter's Search Space\n",
    "    algo=tpe.suggest, # Optimization algorithm (representative TPE)\n",
    "    max_evals=10 # Number of optimization attempts\n",
    ")\n",
    "print(space_eval(space,best))"
   ]
  },
  {
   "cell_type": "code",
   "execution_count": 46,
   "metadata": {},
   "outputs": [
    {
     "name": "stdout",
     "output_type": "stream",
     "text": [
      "{'max_features': 8, 'min_samples_split': 3, 'n_estimators': 1000}\n"
     ]
    }
   ],
   "source": [
    "print(space_eval(space,best))"
   ]
  },
  {
   "cell_type": "code",
   "execution_count": null,
   "metadata": {},
   "outputs": [],
   "source": []
  }
 ],
 "metadata": {
  "kernelspec": {
   "display_name": "Python 3 (ipykernel)",
   "language": "python",
   "name": "python3"
  },
  "language_info": {
   "codemirror_mode": {
    "name": "ipython",
    "version": 3
   },
   "file_extension": ".py",
   "mimetype": "text/x-python",
   "name": "python",
   "nbconvert_exporter": "python",
   "pygments_lexer": "ipython3",
   "version": "3.9.13"
  }
 },
 "nbformat": 4,
 "nbformat_minor": 2
}
