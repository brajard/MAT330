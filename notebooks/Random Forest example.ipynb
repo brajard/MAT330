{
 "cells": [
  {
   "cell_type": "code",
   "execution_count": 37,
   "metadata": {},
   "outputs": [],
   "source": [
    "from sklearn.datasets import load_boston\n",
    "import numpy as np\n",
    "import matplotlib.pyplot as plt\n",
    "from time import time\n",
    "from scipy.stats import randint as sp_randint\n",
    "\n"
   ]
  },
  {
   "cell_type": "code",
   "execution_count": 38,
   "metadata": {},
   "outputs": [],
   "source": [
    "# Utility function to report best scores\n",
    "def report(results, n_top=3):\n",
    "    for i in range(1, n_top + 1):\n",
    "        candidates = np.flatnonzero(results['rank_test_score'] == i)\n",
    "        for candidate in candidates:\n",
    "            print(\"Model with rank: {0}\".format(i))\n",
    "            print(\"Mean validation score: {0:.3f} (std: {1:.3f})\".format(\n",
    "                  results['mean_test_score'][candidate],\n",
    "                  results['std_test_score'][candidate]))\n",
    "            print(\"Parameters: {0}\".format(results['params'][candidate]))\n",
    "            print(\"\")\n"
   ]
  },
  {
   "cell_type": "code",
   "execution_count": 39,
   "metadata": {},
   "outputs": [
    {
     "name": "stdout",
     "output_type": "stream",
     "text": [
      ".. _boston_dataset:\n",
      "\n",
      "Boston house prices dataset\n",
      "---------------------------\n",
      "\n",
      "**Data Set Characteristics:**  \n",
      "\n",
      "    :Number of Instances: 506 \n",
      "\n",
      "    :Number of Attributes: 13 numeric/categorical predictive. Median Value (attribute 14) is usually the target.\n",
      "\n",
      "    :Attribute Information (in order):\n",
      "        - CRIM     per capita crime rate by town\n",
      "        - ZN       proportion of residential land zoned for lots over 25,000 sq.ft.\n",
      "        - INDUS    proportion of non-retail business acres per town\n",
      "        - CHAS     Charles River dummy variable (= 1 if tract bounds river; 0 otherwise)\n",
      "        - NOX      nitric oxides concentration (parts per 10 million)\n",
      "        - RM       average number of rooms per dwelling\n",
      "        - AGE      proportion of owner-occupied units built prior to 1940\n",
      "        - DIS      weighted distances to five Boston employment centres\n",
      "        - RAD      index of accessibility to radial highways\n",
      "        - TAX      full-value property-tax rate per $10,000\n",
      "        - PTRATIO  pupil-teacher ratio by town\n",
      "        - B        1000(Bk - 0.63)^2 where Bk is the proportion of black people by town\n",
      "        - LSTAT    % lower status of the population\n",
      "        - MEDV     Median value of owner-occupied homes in $1000's\n",
      "\n",
      "    :Missing Attribute Values: None\n",
      "\n",
      "    :Creator: Harrison, D. and Rubinfeld, D.L.\n",
      "\n",
      "This is a copy of UCI ML housing dataset.\n",
      "https://archive.ics.uci.edu/ml/machine-learning-databases/housing/\n",
      "\n",
      "\n",
      "This dataset was taken from the StatLib library which is maintained at Carnegie Mellon University.\n",
      "\n",
      "The Boston house-price data of Harrison, D. and Rubinfeld, D.L. 'Hedonic\n",
      "prices and the demand for clean air', J. Environ. Economics & Management,\n",
      "vol.5, 81-102, 1978.   Used in Belsley, Kuh & Welsch, 'Regression diagnostics\n",
      "...', Wiley, 1980.   N.B. Various transformations are used in the table on\n",
      "pages 244-261 of the latter.\n",
      "\n",
      "The Boston house-price data has been used in many machine learning papers that address regression\n",
      "problems.   \n",
      "     \n",
      ".. topic:: References\n",
      "\n",
      "   - Belsley, Kuh & Welsch, 'Regression diagnostics: Identifying Influential Data and Sources of Collinearity', Wiley, 1980. 244-261.\n",
      "   - Quinlan,R. (1993). Combining Instance-Based and Model-Based Learning. In Proceedings on the Tenth International Conference of Machine Learning, 236-243, University of Massachusetts, Amherst. Morgan Kaufmann.\n",
      "\n"
     ]
    }
   ],
   "source": [
    "boston = load_boston()\n",
    "X = boston.data\n",
    "y = boston.target\n",
    "print(boston.DESCR)\n"
   ]
  },
  {
   "cell_type": "code",
   "execution_count": 40,
   "metadata": {},
   "outputs": [
    {
     "name": "stdout",
     "output_type": "stream",
     "text": [
      "score: mean=6.42e-01 ; std=1.91e-01\n"
     ]
    }
   ],
   "source": [
    "from sklearn.ensemble import RandomForestRegressor\n",
    "from sklearn.model_selection import cross_val_score\n",
    "\n",
    "rf = RandomForestRegressor(n_estimators=100, \n",
    "                           max_features=10, \n",
    "                           min_samples_split=2,\n",
    "                           random_state=10)\n",
    "score = cross_val_score(rf,X,y,cv = 5)\n",
    "print('score: mean={:.2e} ; std={:.2e}'\\\n",
    "      .format(score.mean(),score.std()))\n",
    "    "
   ]
  },
  {
   "cell_type": "code",
   "execution_count": 41,
   "metadata": {},
   "outputs": [
    {
     "name": "stdout",
     "output_type": "stream",
     "text": [
      "Fitting 5 folds for each of 36 candidates, totalling 180 fits\n",
      "GridSearch finished\n"
     ]
    }
   ],
   "source": [
    "from sklearn.model_selection import GridSearchCV\n",
    "\n",
    "param_grid = {\n",
    "    'n_estimators' : [100,400,700,1000],\n",
    "    'max_features' : [1,8,13],\n",
    "    'min_samples_split' : [2,5,10]\n",
    "}\n",
    "clf = GridSearchCV(rf, param_grid, cv=5, verbose=1,n_jobs=4)\n",
    "\n",
    "clf.fit(X,y)\n",
    "print('GridSearch finished')"
   ]
  },
  {
   "cell_type": "code",
   "execution_count": 42,
   "metadata": {},
   "outputs": [
    {
     "name": "stdout",
     "output_type": "stream",
     "text": [
      "0.457 (+/-0.388) for {'max_features': 1, 'min_samples_split': 2, 'n_estimators': 100}\n",
      "0.466 (+/-0.387) for {'max_features': 1, 'min_samples_split': 2, 'n_estimators': 400}\n",
      "0.465 (+/-0.411) for {'max_features': 1, 'min_samples_split': 2, 'n_estimators': 700}\n",
      "0.469 (+/-0.400) for {'max_features': 1, 'min_samples_split': 2, 'n_estimators': 1000}\n",
      "0.433 (+/-0.411) for {'max_features': 1, 'min_samples_split': 5, 'n_estimators': 100}\n",
      "0.438 (+/-0.415) for {'max_features': 1, 'min_samples_split': 5, 'n_estimators': 400}\n",
      "0.441 (+/-0.436) for {'max_features': 1, 'min_samples_split': 5, 'n_estimators': 700}\n",
      "0.452 (+/-0.412) for {'max_features': 1, 'min_samples_split': 5, 'n_estimators': 1000}\n",
      "0.366 (+/-0.497) for {'max_features': 1, 'min_samples_split': 10, 'n_estimators': 100}\n",
      "0.406 (+/-0.418) for {'max_features': 1, 'min_samples_split': 10, 'n_estimators': 400}\n",
      "0.411 (+/-0.445) for {'max_features': 1, 'min_samples_split': 10, 'n_estimators': 700}\n",
      "0.422 (+/-0.418) for {'max_features': 1, 'min_samples_split': 10, 'n_estimators': 1000}\n",
      "0.658 (+/-0.382) for {'max_features': 8, 'min_samples_split': 2, 'n_estimators': 100}\n",
      "0.671 (+/-0.344) for {'max_features': 8, 'min_samples_split': 2, 'n_estimators': 400}\n",
      "0.670 (+/-0.348) for {'max_features': 8, 'min_samples_split': 2, 'n_estimators': 700}\n",
      "0.669 (+/-0.350) for {'max_features': 8, 'min_samples_split': 2, 'n_estimators': 1000}\n",
      "0.633 (+/-0.437) for {'max_features': 8, 'min_samples_split': 5, 'n_estimators': 100}\n",
      "0.662 (+/-0.351) for {'max_features': 8, 'min_samples_split': 5, 'n_estimators': 400}\n",
      "0.669 (+/-0.341) for {'max_features': 8, 'min_samples_split': 5, 'n_estimators': 700}\n",
      "0.670 (+/-0.338) for {'max_features': 8, 'min_samples_split': 5, 'n_estimators': 1000}\n",
      "0.659 (+/-0.352) for {'max_features': 8, 'min_samples_split': 10, 'n_estimators': 100}\n",
      "0.662 (+/-0.357) for {'max_features': 8, 'min_samples_split': 10, 'n_estimators': 400}\n",
      "0.665 (+/-0.350) for {'max_features': 8, 'min_samples_split': 10, 'n_estimators': 700}\n",
      "0.664 (+/-0.346) for {'max_features': 8, 'min_samples_split': 10, 'n_estimators': 1000}\n",
      "0.621 (+/-0.433) for {'max_features': 13, 'min_samples_split': 2, 'n_estimators': 100}\n",
      "0.630 (+/-0.405) for {'max_features': 13, 'min_samples_split': 2, 'n_estimators': 400}\n",
      "0.628 (+/-0.419) for {'max_features': 13, 'min_samples_split': 2, 'n_estimators': 700}\n",
      "0.628 (+/-0.417) for {'max_features': 13, 'min_samples_split': 2, 'n_estimators': 1000}\n",
      "0.612 (+/-0.453) for {'max_features': 13, 'min_samples_split': 5, 'n_estimators': 100}\n",
      "0.624 (+/-0.419) for {'max_features': 13, 'min_samples_split': 5, 'n_estimators': 400}\n",
      "0.623 (+/-0.426) for {'max_features': 13, 'min_samples_split': 5, 'n_estimators': 700}\n",
      "0.623 (+/-0.425) for {'max_features': 13, 'min_samples_split': 5, 'n_estimators': 1000}\n",
      "0.611 (+/-0.448) for {'max_features': 13, 'min_samples_split': 10, 'n_estimators': 100}\n",
      "0.623 (+/-0.411) for {'max_features': 13, 'min_samples_split': 10, 'n_estimators': 400}\n",
      "0.622 (+/-0.417) for {'max_features': 13, 'min_samples_split': 10, 'n_estimators': 700}\n",
      "0.623 (+/-0.417) for {'max_features': 13, 'min_samples_split': 10, 'n_estimators': 1000}\n"
     ]
    }
   ],
   "source": [
    "    means = clf.cv_results_['mean_test_score']\n",
    "    stds = clf.cv_results_['std_test_score']\n",
    "    for mean, std, params in zip(means, stds, clf.cv_results_['params']):\n",
    "        print(\"%0.3f (+/-%0.03f) for %r\"\n",
    "              % (mean, std * 2, params))\n"
   ]
  },
  {
   "cell_type": "code",
   "execution_count": 8,
   "metadata": {},
   "outputs": [
    {
     "data": {
      "image/png": "[encoded data removed]",
      "text/plain": [
       "<Figure size 432x288 with 1 Axes>"
      ]
     },
     "metadata": {
      "needs_background": "light"
     },
     "output_type": "display_data"
    }
   ],
   "source": [
    "plt.bar(range(len(means)),means)\n",
    "plt.ylim(.3,.7)\n",
    "plt.show()"
   ]
  },
  {
   "cell_type": "code",
   "execution_count": 9,
   "metadata": {},
   "outputs": [
    {
     "name": "stdout",
     "output_type": "stream",
     "text": [
      "Model with rank: 1\n",
      "Mean validation score: 0.671 (std: 0.172)\n",
      "Parameters: {'max_features': 8, 'min_samples_split': 2, 'n_estimators': 400}\n",
      "\n",
      "Model with rank: 2\n",
      "Mean validation score: 0.670 (std: 0.174)\n",
      "Parameters: {'max_features': 8, 'min_samples_split': 2, 'n_estimators': 700}\n",
      "\n",
      "Model with rank: 3\n",
      "Mean validation score: 0.670 (std: 0.169)\n",
      "Parameters: {'max_features': 8, 'min_samples_split': 5, 'n_estimators': 1000}\n",
      "\n"
     ]
    }
   ],
   "source": [
    "report(clf.cv_results_)"
   ]
  },
  {
   "cell_type": "code",
   "execution_count": 43,
   "metadata": {},
   "outputs": [
    {
     "name": "stdout",
     "output_type": "stream",
     "text": [
      "Fitting 5 folds for each of 15 candidates, totalling 75 fits\n",
      "Random finished\n"
     ]
    }
   ],
   "source": [
    "from sklearn.model_selection import RandomizedSearchCV\n",
    "param_dist = {\n",
    "    'n_estimators' : [100,400,700,1000],\n",
    "    'max_features' : sp_randint(1,13),\n",
    "    'min_samples_split' : sp_randint(2,10)\n",
    "}\n",
    "clf = RandomizedSearchCV(rf, param_dist, cv=5, n_iter=15, \n",
    "                         verbose=1,n_jobs=4, random_state=1)\n",
    "\n",
    "clf.fit(X,y)\n",
    "print('Random finished')\n"
   ]
  },
  {
   "cell_type": "code",
   "execution_count": 44,
   "metadata": {},
   "outputs": [
    {
     "name": "stdout",
     "output_type": "stream",
     "text": [
      "Model with rank: 1\n",
      "Mean validation score: 0.674 (std: 0.173)\n",
      "Parameters: {'max_features': 7, 'min_samples_split': 3, 'n_estimators': 700}\n",
      "\n",
      "Model with rank: 2\n",
      "Mean validation score: 0.673 (std: 0.164)\n",
      "Parameters: {'max_features': 6, 'min_samples_split': 5, 'n_estimators': 100}\n",
      "\n",
      "Model with rank: 3\n",
      "Mean validation score: 0.673 (std: 0.171)\n",
      "Parameters: {'max_features': 7, 'min_samples_split': 3, 'n_estimators': 400}\n",
      "\n"
     ]
    }
   ],
   "source": [
    "report(clf.cv_results_)"
   ]
  },
  {
   "cell_type": "code",
   "execution_count": 33,
   "metadata": {},
   "outputs": [],
   "source": [
    "from hyperopt import tpe, hp, fmin, space_eval\n",
    "\n",
    "#Define the objective function to minimize\n",
    "def objective(params):\n",
    "    n_estimators, max_features, min_samples_split = params['n_estimators'], params['max_features'], params['min_samples_split']\n",
    "    rf = RandomForestRegressor(n_estimators=n_estimators, \n",
    "                           max_features=max_features, \n",
    "                           min_samples_split=min_samples_split,\n",
    "                           random_state=10)\n",
    "    score = cross_val_score(rf,X,y,cv = 5)\n",
    "\n",
    "    return -score.mean()"
   ]
  },
  {
   "cell_type": "code",
   "execution_count": 31,
   "metadata": {},
   "outputs": [],
   "source": [
    "space = {\n",
    "    'n_estimators': hp.choice('n_estimators',[100,400,700,1000]),\n",
    "    'max_features': hp.randint('max_features',1,13),\n",
    "    'min_samples_split' : hp.randint('min_samples_split',2,10)\n",
    "}"
   ]
  },
  {
   "cell_type": "code",
   "execution_count": 45,
   "metadata": {},
   "outputs": [
    {
     "name": "stdout",
     "output_type": "stream",
     "text": [
      "100%|██████████| 10/10 [00:45<00:00,  4.57s/trial, best loss: -0.670093703896406]\n",
      "{'max_features': 8, 'min_samples_split': 3, 'n_estimators': 1000}\n"
     ]
    }
   ],
   "source": [
    "best = fmin(\n",
    "    fn=objective, # Objective Function to optimize\n",
    "    space=space, # Hyperparameter's Search Space\n",
    "    algo=tpe.suggest, # Optimization algorithm (representative TPE)\n",
    "    max_evals=10 # Number of optimization attempts\n",
    ")\n",
    "print(space_eval(space,best))"
   ]
  },
  {
   "cell_type": "code",
   "execution_count": 46,
   "metadata": {},
   "outputs": [
    {
     "name": "stdout",
     "output_type": "stream",
     "text": [
      "{'max_features': 8, 'min_samples_split': 3, 'n_estimators': 1000}\n"
     ]
    }
   ],
   "source": [
    "print(space_eval(space,best))"
   ]
  },
  {
   "cell_type": "code",
   "execution_count": null,
   "metadata": {},
   "outputs": [],
   "source": []
  }
 ],
 "metadata": {
  "kernelspec": {
   "display_name": "Python 3",
   "language": "python",
   "name": "python3"
  },
  "language_info": {
   "codemirror_mode": {
    "name": "ipython",
    "version": 3
   },
   "file_extension": ".py",
   "mimetype": "text/x-python",
   "name": "python",
   "nbconvert_exporter": "python",
   "pygments_lexer": "ipython3",
   "version": "3.7.10"
  }
 },
 "nbformat": 4,
 "nbformat_minor": 2
}
